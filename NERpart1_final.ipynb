{
 "cells": [
  {
   "cell_type": "markdown",
   "id": "ccf4ee26",
   "metadata": {
    "id": "ccf4ee26"
   },
   "source": [
    "# UE4 : Entrainement de modèles de reconnaissance d’entités nommées (NER)\n"
   ]
  },
  {
   "cell_type": "markdown",
   "id": "80c2d7ff",
   "metadata": {
    "id": "80c2d7ff"
   },
   "source": [
    "### Install package :"
   ]
  },
  {
   "cell_type": "code",
   "execution_count": 1,
   "id": "d451f286",
   "metadata": {},
   "outputs": [
    {
     "name": "stdout",
     "output_type": "stream",
     "text": [
      "Collecting tf2crfNote: you may need to restart the kernel to use updated packages.\n",
      "  Downloading tf2crf-0.1.33-py2.py3-none-any.whl (7.3 kB)\n",
      "Collecting tensorflow-addons>=0.8.2\n",
      "  Downloading tensorflow_addons-0.19.0-cp39-cp39-win_amd64.whl (742 kB)\n",
      "Requirement already satisfied: tensorflow>=2.1.0 in c:\\users\\haole\\anaconda3\\lib\\site-packages (from tf2crf) (2.11.0)\n",
      "\n",
      "Requirement already satisfied: tensorflow-intel==2.11.0 in c:\\users\\haole\\anaconda3\\lib\\site-packages (from tensorflow>=2.1.0->tf2crf) (2.11.0)\n",
      "Requirement already satisfied: flatbuffers>=2.0 in c:\\users\\haole\\anaconda3\\lib\\site-packages (from tensorflow-intel==2.11.0->tensorflow>=2.1.0->tf2crf) (22.12.6)\n",
      "Requirement already satisfied: libclang>=13.0.0 in c:\\users\\haole\\anaconda3\\lib\\site-packages (from tensorflow-intel==2.11.0->tensorflow>=2.1.0->tf2crf) (14.0.6)\n",
      "Requirement already satisfied: packaging in c:\\users\\haole\\anaconda3\\lib\\site-packages (from tensorflow-intel==2.11.0->tensorflow>=2.1.0->tf2crf) (21.3)\n",
      "Requirement already satisfied: tensorboard<2.12,>=2.11 in c:\\users\\haole\\anaconda3\\lib\\site-packages (from tensorflow-intel==2.11.0->tensorflow>=2.1.0->tf2crf) (2.11.0)\n",
      "Requirement already satisfied: numpy>=1.20 in c:\\users\\haole\\anaconda3\\lib\\site-packages (from tensorflow-intel==2.11.0->tensorflow>=2.1.0->tf2crf) (1.21.5)\n",
      "Requirement already satisfied: typing-extensions>=3.6.6 in c:\\users\\haole\\anaconda3\\lib\\site-packages (from tensorflow-intel==2.11.0->tensorflow>=2.1.0->tf2crf) (4.4.0)\n",
      "Requirement already satisfied: grpcio<2.0,>=1.24.3 in c:\\users\\haole\\anaconda3\\lib\\site-packages (from tensorflow-intel==2.11.0->tensorflow>=2.1.0->tf2crf) (1.42.0)\n",
      "Requirement already satisfied: keras<2.12,>=2.11.0 in c:\\users\\haole\\anaconda3\\lib\\site-packages (from tensorflow-intel==2.11.0->tensorflow>=2.1.0->tf2crf) (2.11.0)\n",
      "Requirement already satisfied: absl-py>=1.0.0 in c:\\users\\haole\\anaconda3\\lib\\site-packages (from tensorflow-intel==2.11.0->tensorflow>=2.1.0->tf2crf) (1.3.0)\n",
      "Requirement already satisfied: tensorflow-io-gcs-filesystem>=0.23.1 in c:\\users\\haole\\anaconda3\\lib\\site-packages (from tensorflow-intel==2.11.0->tensorflow>=2.1.0->tf2crf) (0.29.0)\n",
      "Requirement already satisfied: termcolor>=1.1.0 in c:\\users\\haole\\anaconda3\\lib\\site-packages (from tensorflow-intel==2.11.0->tensorflow>=2.1.0->tf2crf) (2.1.1)\n",
      "Requirement already satisfied: wrapt>=1.11.0 in c:\\users\\haole\\anaconda3\\lib\\site-packages (from tensorflow-intel==2.11.0->tensorflow>=2.1.0->tf2crf) (1.12.1)\n",
      "Requirement already satisfied: six>=1.12.0 in c:\\users\\haole\\anaconda3\\lib\\site-packages (from tensorflow-intel==2.11.0->tensorflow>=2.1.0->tf2crf) (1.16.0)\n",
      "Requirement already satisfied: gast<=0.4.0,>=0.2.1 in c:\\users\\haole\\anaconda3\\lib\\site-packages (from tensorflow-intel==2.11.0->tensorflow>=2.1.0->tf2crf) (0.4.0)\n",
      "Requirement already satisfied: tensorflow-estimator<2.12,>=2.11.0 in c:\\users\\haole\\anaconda3\\lib\\site-packages (from tensorflow-intel==2.11.0->tensorflow>=2.1.0->tf2crf) (2.11.0)\n",
      "Requirement already satisfied: astunparse>=1.6.0 in c:\\users\\haole\\anaconda3\\lib\\site-packages (from tensorflow-intel==2.11.0->tensorflow>=2.1.0->tf2crf) (1.6.3)\n",
      "Requirement already satisfied: protobuf<3.20,>=3.9.2 in c:\\users\\haole\\anaconda3\\lib\\site-packages (from tensorflow-intel==2.11.0->tensorflow>=2.1.0->tf2crf) (3.19.1)\n",
      "Requirement already satisfied: h5py>=2.9.0 in c:\\users\\haole\\anaconda3\\lib\\site-packages (from tensorflow-intel==2.11.0->tensorflow>=2.1.0->tf2crf) (3.6.0)\n",
      "Requirement already satisfied: google-pasta>=0.1.1 in c:\\users\\haole\\anaconda3\\lib\\site-packages (from tensorflow-intel==2.11.0->tensorflow>=2.1.0->tf2crf) (0.2.0)\n",
      "Requirement already satisfied: opt-einsum>=2.3.2 in c:\\users\\haole\\anaconda3\\lib\\site-packages (from tensorflow-intel==2.11.0->tensorflow>=2.1.0->tf2crf) (3.3.0)\n",
      "Requirement already satisfied: setuptools in c:\\users\\haole\\anaconda3\\lib\\site-packages (from tensorflow-intel==2.11.0->tensorflow>=2.1.0->tf2crf) (61.2.0)\n",
      "Requirement already satisfied: wheel<1.0,>=0.23.0 in c:\\users\\haole\\anaconda3\\lib\\site-packages (from astunparse>=1.6.0->tensorflow-intel==2.11.0->tensorflow>=2.1.0->tf2crf) (0.37.1)\n",
      "Requirement already satisfied: werkzeug>=1.0.1 in c:\\users\\haole\\anaconda3\\lib\\site-packages (from tensorboard<2.12,>=2.11->tensorflow-intel==2.11.0->tensorflow>=2.1.0->tf2crf) (2.0.3)\n",
      "Requirement already satisfied: tensorboard-data-server<0.7.0,>=0.6.0 in c:\\users\\haole\\anaconda3\\lib\\site-packages (from tensorboard<2.12,>=2.11->tensorflow-intel==2.11.0->tensorflow>=2.1.0->tf2crf) (0.6.1)\n",
      "Requirement already satisfied: google-auth<3,>=1.6.3 in c:\\users\\haole\\anaconda3\\lib\\site-packages (from tensorboard<2.12,>=2.11->tensorflow-intel==2.11.0->tensorflow>=2.1.0->tf2crf) (1.33.0)\n",
      "Requirement already satisfied: markdown>=2.6.8 in c:\\users\\haole\\anaconda3\\lib\\site-packages (from tensorboard<2.12,>=2.11->tensorflow-intel==2.11.0->tensorflow>=2.1.0->tf2crf) (3.3.4)\n",
      "Requirement already satisfied: requests<3,>=2.21.0 in c:\\users\\haole\\anaconda3\\lib\\site-packages (from tensorboard<2.12,>=2.11->tensorflow-intel==2.11.0->tensorflow>=2.1.0->tf2crf) (2.27.1)\n",
      "Requirement already satisfied: google-auth-oauthlib<0.5,>=0.4.1 in c:\\users\\haole\\anaconda3\\lib\\site-packages (from tensorboard<2.12,>=2.11->tensorflow-intel==2.11.0->tensorflow>=2.1.0->tf2crf) (0.4.6)\n",
      "Requirement already satisfied: tensorboard-plugin-wit>=1.6.0 in c:\\users\\haole\\anaconda3\\lib\\site-packages (from tensorboard<2.12,>=2.11->tensorflow-intel==2.11.0->tensorflow>=2.1.0->tf2crf) (1.8.1)\n",
      "Requirement already satisfied: cachetools<5.0,>=2.0.0 in c:\\users\\haole\\anaconda3\\lib\\site-packages (from google-auth<3,>=1.6.3->tensorboard<2.12,>=2.11->tensorflow-intel==2.11.0->tensorflow>=2.1.0->tf2crf) (4.2.2)\n",
      "Requirement already satisfied: pyasn1-modules>=0.2.1 in c:\\users\\haole\\anaconda3\\lib\\site-packages (from google-auth<3,>=1.6.3->tensorboard<2.12,>=2.11->tensorflow-intel==2.11.0->tensorflow>=2.1.0->tf2crf) (0.2.8)\n",
      "Requirement already satisfied: rsa<5,>=3.1.4 in c:\\users\\haole\\anaconda3\\lib\\site-packages (from google-auth<3,>=1.6.3->tensorboard<2.12,>=2.11->tensorflow-intel==2.11.0->tensorflow>=2.1.0->tf2crf) (4.7.2)\n",
      "Requirement already satisfied: requests-oauthlib>=0.7.0 in c:\\users\\haole\\anaconda3\\lib\\site-packages (from google-auth-oauthlib<0.5,>=0.4.1->tensorboard<2.12,>=2.11->tensorflow-intel==2.11.0->tensorflow>=2.1.0->tf2crf) (1.3.1)\n",
      "Requirement already satisfied: pyasn1<0.5.0,>=0.4.6 in c:\\users\\haole\\anaconda3\\lib\\site-packages (from pyasn1-modules>=0.2.1->google-auth<3,>=1.6.3->tensorboard<2.12,>=2.11->tensorflow-intel==2.11.0->tensorflow>=2.1.0->tf2crf) (0.4.8)\n",
      "Requirement already satisfied: urllib3<1.27,>=1.21.1 in c:\\users\\haole\\anaconda3\\lib\\site-packages (from requests<3,>=2.21.0->tensorboard<2.12,>=2.11->tensorflow-intel==2.11.0->tensorflow>=2.1.0->tf2crf) (1.26.9)\n",
      "Requirement already satisfied: certifi>=2017.4.17 in c:\\users\\haole\\anaconda3\\lib\\site-packages (from requests<3,>=2.21.0->tensorboard<2.12,>=2.11->tensorflow-intel==2.11.0->tensorflow>=2.1.0->tf2crf) (2021.10.8)\n",
      "Requirement already satisfied: idna<4,>=2.5 in c:\\users\\haole\\anaconda3\\lib\\site-packages (from requests<3,>=2.21.0->tensorboard<2.12,>=2.11->tensorflow-intel==2.11.0->tensorflow>=2.1.0->tf2crf) (3.3)\n",
      "Requirement already satisfied: charset-normalizer~=2.0.0 in c:\\users\\haole\\anaconda3\\lib\\site-packages (from requests<3,>=2.21.0->tensorboard<2.12,>=2.11->tensorflow-intel==2.11.0->tensorflow>=2.1.0->tf2crf) (2.0.4)\n",
      "Requirement already satisfied: oauthlib>=3.0.0 in c:\\users\\haole\\anaconda3\\lib\\site-packages (from requests-oauthlib>=0.7.0->google-auth-oauthlib<0.5,>=0.4.1->tensorboard<2.12,>=2.11->tensorflow-intel==2.11.0->tensorflow>=2.1.0->tf2crf) (3.2.2)\n",
      "Collecting typeguard>=2.7\n",
      "  Downloading typeguard-2.13.3-py3-none-any.whl (17 kB)\n",
      "Requirement already satisfied: pyparsing!=3.0.5,>=2.0.2 in c:\\users\\haole\\anaconda3\\lib\\site-packages (from packaging->tensorflow-intel==2.11.0->tensorflow>=2.1.0->tf2crf) (3.0.4)\n",
      "Installing collected packages: typeguard, tensorflow-addons, tf2crf\n",
      "Successfully installed tensorflow-addons-0.19.0 tf2crf-0.1.33 typeguard-2.13.3\n"
     ]
    }
   ],
   "source": [
    "pip install tf2crf"
   ]
  },
  {
   "cell_type": "code",
   "execution_count": 2,
   "id": "d90037f6",
   "metadata": {},
   "outputs": [
    {
     "name": "stdout",
     "output_type": "stream",
     "text": [
      "Requirement already satisfied: scikit-learn in c:\\users\\haole\\anaconda3\\lib\\site-packages (1.0.2)\n",
      "Requirement already satisfied: threadpoolctl>=2.0.0 in c:\\users\\haole\\anaconda3\\lib\\site-packages (from scikit-learn) (2.2.0)\n",
      "Requirement already satisfied: joblib>=0.11 in c:\\users\\haole\\anaconda3\\lib\\site-packages (from scikit-learn) (1.1.0)\n",
      "Requirement already satisfied: numpy>=1.14.6 in c:\\users\\haole\\anaconda3\\lib\\site-packages (from scikit-learn) (1.21.5)\n",
      "Requirement already satisfied: scipy>=1.1.0 in c:\\users\\haole\\anaconda3\\lib\\site-packages (from scikit-learn) (1.7.3)\n",
      "Note: you may need to restart the kernel to use updated packages.\n"
     ]
    }
   ],
   "source": [
    "pip install scikit-learn"
   ]
  },
  {
   "cell_type": "code",
   "execution_count": 3,
   "id": "087f7c76",
   "metadata": {},
   "outputs": [
    {
     "name": "stdout",
     "output_type": "stream",
     "text": [
      "Requirement already satisfied: matplotlib in c:\\users\\haole\\anaconda3\\lib\\site-packages (3.5.1)\n",
      "Requirement already satisfied: pillow>=6.2.0 in c:\\users\\haole\\anaconda3\\lib\\site-packages (from matplotlib) (9.0.1)\n",
      "Requirement already satisfied: kiwisolver>=1.0.1 in c:\\users\\haole\\anaconda3\\lib\\site-packages (from matplotlib) (1.3.2)\n",
      "Requirement already satisfied: fonttools>=4.22.0 in c:\\users\\haole\\anaconda3\\lib\\site-packages (from matplotlib) (4.25.0)\n",
      "Requirement already satisfied: numpy>=1.17 in c:\\users\\haole\\anaconda3\\lib\\site-packages (from matplotlib) (1.21.5)\n",
      "Requirement already satisfied: packaging>=20.0 in c:\\users\\haole\\anaconda3\\lib\\site-packages (from matplotlib) (21.3)\n",
      "Requirement already satisfied: pyparsing>=2.2.1 in c:\\users\\haole\\anaconda3\\lib\\site-packages (from matplotlib) (3.0.4)\n",
      "Requirement already satisfied: cycler>=0.10 in c:\\users\\haole\\anaconda3\\lib\\site-packages (from matplotlib) (0.11.0)\n",
      "Requirement already satisfied: python-dateutil>=2.7 in c:\\users\\haole\\anaconda3\\lib\\site-packages (from matplotlib) (2.8.2)\n",
      "Requirement already satisfied: six>=1.5 in c:\\users\\haole\\anaconda3\\lib\\site-packages (from python-dateutil>=2.7->matplotlib) (1.16.0)\n",
      "Note: you may need to restart the kernel to use updated packages.\n"
     ]
    }
   ],
   "source": [
    "pip install matplotlib"
   ]
  },
  {
   "cell_type": "code",
   "execution_count": 4,
   "id": "9574fe42",
   "metadata": {},
   "outputs": [
    {
     "name": "stdout",
     "output_type": "stream",
     "text": [
      "Requirement already satisfied: datasets in c:\\users\\haole\\anaconda3\\lib\\site-packages (from -r requirements.txt (line 1)) (2.8.0)\n",
      "Requirement already satisfied: spacy in c:\\users\\haole\\anaconda3\\lib\\site-packages (from -r requirements.txt (line 2)) (3.4.4)\n",
      "Requirement already satisfied: pandas in c:\\users\\haole\\anaconda3\\lib\\site-packages (from -r requirements.txt (line 3)) (1.4.2)\n",
      "Requirement already satisfied: jsonlines in c:\\users\\haole\\anaconda3\\lib\\site-packages (from -r requirements.txt (line 4)) (3.1.0)\n",
      "Requirement already satisfied: scikit-learn in c:\\users\\haole\\anaconda3\\lib\\site-packages (from -r requirements.txt (line 5)) (1.0.2)\n",
      "Requirement already satisfied: tqdm in c:\\users\\haole\\anaconda3\\lib\\site-packages (from -r requirements.txt (line 6)) (4.64.0)\n",
      "Requirement already satisfied: loguru in c:\\users\\haole\\anaconda3\\lib\\site-packages (from -r requirements.txt (line 7)) (0.6.0)\n",
      "Requirement already satisfied: fsspec[http]>=2021.11.1 in c:\\users\\haole\\anaconda3\\lib\\site-packages (from datasets->-r requirements.txt (line 1)) (2022.2.0)\n",
      "Requirement already satisfied: dill<0.3.7 in c:\\users\\haole\\anaconda3\\lib\\site-packages (from datasets->-r requirements.txt (line 1)) (0.3.6)\n",
      "Requirement already satisfied: numpy>=1.17 in c:\\users\\haole\\anaconda3\\lib\\site-packages (from datasets->-r requirements.txt (line 1)) (1.21.5)\n",
      "Requirement already satisfied: huggingface-hub<1.0.0,>=0.2.0 in c:\\users\\haole\\anaconda3\\lib\\site-packages (from datasets->-r requirements.txt (line 1)) (0.11.1)\n",
      "Requirement already satisfied: pyarrow>=6.0.0 in c:\\users\\haole\\anaconda3\\lib\\site-packages (from datasets->-r requirements.txt (line 1)) (10.0.1)\n",
      "Requirement already satisfied: xxhash in c:\\users\\haole\\anaconda3\\lib\\site-packages (from datasets->-r requirements.txt (line 1)) (3.2.0)\n",
      "Requirement already satisfied: requests>=2.19.0 in c:\\users\\haole\\anaconda3\\lib\\site-packages (from datasets->-r requirements.txt (line 1)) (2.27.1)\n",
      "Requirement already satisfied: multiprocess in c:\\users\\haole\\anaconda3\\lib\\site-packages (from datasets->-r requirements.txt (line 1)) (0.70.14)\n",
      "Requirement already satisfied: pyyaml>=5.1 in c:\\users\\haole\\anaconda3\\lib\\site-packages (from datasets->-r requirements.txt (line 1)) (6.0)\n",
      "Requirement already satisfied: packaging in c:\\users\\haole\\anaconda3\\lib\\site-packages (from datasets->-r requirements.txt (line 1)) (21.3)\n",
      "Requirement already satisfied: aiohttp in c:\\users\\haole\\anaconda3\\lib\\site-packages (from datasets->-r requirements.txt (line 1)) (3.8.1)\n",
      "Requirement already satisfied: responses<0.19 in c:\\users\\haole\\anaconda3\\lib\\site-packages (from datasets->-r requirements.txt (line 1)) (0.18.0)\n",
      "Requirement already satisfied: langcodes<4.0.0,>=3.2.0 in c:\\users\\haole\\anaconda3\\lib\\site-packages (from spacy->-r requirements.txt (line 2)) (3.3.0)\n",
      "Requirement already satisfied: smart-open<7.0.0,>=5.2.1 in c:\\users\\haole\\anaconda3\\lib\\site-packages (from spacy->-r requirements.txt (line 2)) (6.3.0)\n",
      "Requirement already satisfied: spacy-loggers<2.0.0,>=1.0.0 in c:\\users\\haole\\anaconda3\\lib\\site-packages (from spacy->-r requirements.txt (line 2)) (1.0.4)\n",
      "Requirement already satisfied: typer<0.8.0,>=0.3.0 in c:\\users\\haole\\anaconda3\\lib\\site-packages (from spacy->-r requirements.txt (line 2)) (0.7.0)\n",
      "Requirement already satisfied: jinja2 in c:\\users\\haole\\anaconda3\\lib\\site-packages (from spacy->-r requirements.txt (line 2)) (2.11.3)\n",
      "Requirement already satisfied: spacy-legacy<3.1.0,>=3.0.10 in c:\\users\\haole\\anaconda3\\lib\\site-packages (from spacy->-r requirements.txt (line 2)) (3.0.11)\n",
      "Requirement already satisfied: setuptools in c:\\users\\haole\\anaconda3\\lib\\site-packages (from spacy->-r requirements.txt (line 2)) (61.2.0)\n",
      "Requirement already satisfied: murmurhash<1.1.0,>=0.28.0 in c:\\users\\haole\\anaconda3\\lib\\site-packages (from spacy->-r requirements.txt (line 2)) (1.0.9)\n",
      "Requirement already satisfied: pydantic!=1.8,!=1.8.1,<1.11.0,>=1.7.4 in c:\\users\\haole\\anaconda3\\lib\\site-packages (from spacy->-r requirements.txt (line 2)) (1.10.4)\n",
      "Requirement already satisfied: cymem<2.1.0,>=2.0.2 in c:\\users\\haole\\anaconda3\\lib\\site-packages (from spacy->-r requirements.txt (line 2)) (2.0.7)\n",
      "Requirement already satisfied: wasabi<1.1.0,>=0.9.1 in c:\\users\\haole\\anaconda3\\lib\\site-packages (from spacy->-r requirements.txt (line 2)) (0.10.1)\n",
      "Requirement already satisfied: srsly<3.0.0,>=2.4.3 in c:\\users\\haole\\anaconda3\\lib\\site-packages (from spacy->-r requirements.txt (line 2)) (2.4.5)\n",
      "Requirement already satisfied: preshed<3.1.0,>=3.0.2 in c:\\users\\haole\\anaconda3\\lib\\site-packages (from spacy->-r requirements.txt (line 2)) (3.0.8)\n",
      "Requirement already satisfied: catalogue<2.1.0,>=2.0.6 in c:\\users\\haole\\anaconda3\\lib\\site-packages (from spacy->-r requirements.txt (line 2)) (2.0.8)\n",
      "Requirement already satisfied: thinc<8.2.0,>=8.1.0 in c:\\users\\haole\\anaconda3\\lib\\site-packages (from spacy->-r requirements.txt (line 2)) (8.1.6)\n",
      "Requirement already satisfied: pathy>=0.3.5 in c:\\users\\haole\\anaconda3\\lib\\site-packages (from spacy->-r requirements.txt (line 2)) (0.10.1)\n",
      "Requirement already satisfied: pytz>=2020.1 in c:\\users\\haole\\anaconda3\\lib\\site-packages (from pandas->-r requirements.txt (line 3)) (2021.3)\n",
      "Requirement already satisfied: python-dateutil>=2.8.1 in c:\\users\\haole\\anaconda3\\lib\\site-packages (from pandas->-r requirements.txt (line 3)) (2.8.2)\n",
      "Requirement already satisfied: attrs>=19.2.0 in c:\\users\\haole\\anaconda3\\lib\\site-packages (from jsonlines->-r requirements.txt (line 4)) (21.4.0)\n",
      "Requirement already satisfied: scipy>=1.1.0 in c:\\users\\haole\\anaconda3\\lib\\site-packages (from scikit-learn->-r requirements.txt (line 5)) (1.7.3)\n",
      "Requirement already satisfied: joblib>=0.11 in c:\\users\\haole\\anaconda3\\lib\\site-packages (from scikit-learn->-r requirements.txt (line 5)) (1.1.0)\n",
      "Requirement already satisfied: threadpoolctl>=2.0.0 in c:\\users\\haole\\anaconda3\\lib\\site-packages (from scikit-learn->-r requirements.txt (line 5)) (2.2.0)\n",
      "Requirement already satisfied: colorama in c:\\users\\haole\\anaconda3\\lib\\site-packages (from tqdm->-r requirements.txt (line 6)) (0.4.4)\n",
      "Requirement already satisfied: win32-setctime>=1.0.0 in c:\\users\\haole\\anaconda3\\lib\\site-packages (from loguru->-r requirements.txt (line 7)) (1.1.0)\n",
      "Requirement already satisfied: typing-extensions>=3.7.4.3 in c:\\users\\haole\\anaconda3\\lib\\site-packages (from huggingface-hub<1.0.0,>=0.2.0->datasets->-r requirements.txt (line 1)) (4.4.0)\n",
      "Requirement already satisfied: filelock in c:\\users\\haole\\anaconda3\\lib\\site-packages (from huggingface-hub<1.0.0,>=0.2.0->datasets->-r requirements.txt (line 1)) (3.6.0)\n",
      "Requirement already satisfied: pyparsing!=3.0.5,>=2.0.2 in c:\\users\\haole\\anaconda3\\lib\\site-packages (from packaging->datasets->-r requirements.txt (line 1)) (3.0.4)\n",
      "Requirement already satisfied: six>=1.5 in c:\\users\\haole\\anaconda3\\lib\\site-packages (from python-dateutil>=2.8.1->pandas->-r requirements.txt (line 3)) (1.16.0)\n",
      "Requirement already satisfied: idna<4,>=2.5 in c:\\users\\haole\\anaconda3\\lib\\site-packages (from requests>=2.19.0->datasets->-r requirements.txt (line 1)) (3.3)\n",
      "Requirement already satisfied: urllib3<1.27,>=1.21.1 in c:\\users\\haole\\anaconda3\\lib\\site-packages (from requests>=2.19.0->datasets->-r requirements.txt (line 1)) (1.26.9)\n",
      "Requirement already satisfied: certifi>=2017.4.17 in c:\\users\\haole\\anaconda3\\lib\\site-packages (from requests>=2.19.0->datasets->-r requirements.txt (line 1)) (2021.10.8)\n",
      "Requirement already satisfied: charset-normalizer~=2.0.0 in c:\\users\\haole\\anaconda3\\lib\\site-packages (from requests>=2.19.0->datasets->-r requirements.txt (line 1)) (2.0.4)\n",
      "Requirement already satisfied: blis<0.8.0,>=0.7.8 in c:\\users\\haole\\anaconda3\\lib\\site-packages (from thinc<8.2.0,>=8.1.0->spacy->-r requirements.txt (line 2)) (0.7.9)\n",
      "Requirement already satisfied: confection<1.0.0,>=0.0.1 in c:\\users\\haole\\anaconda3\\lib\\site-packages (from thinc<8.2.0,>=8.1.0->spacy->-r requirements.txt (line 2)) (0.0.3)\n",
      "Requirement already satisfied: click<9.0.0,>=7.1.1 in c:\\users\\haole\\anaconda3\\lib\\site-packages (from typer<0.8.0,>=0.3.0->spacy->-r requirements.txt (line 2)) (8.0.4)\n",
      "Requirement already satisfied: async-timeout<5.0,>=4.0.0a3 in c:\\users\\haole\\anaconda3\\lib\\site-packages (from aiohttp->datasets->-r requirements.txt (line 1)) (4.0.1)\n",
      "Requirement already satisfied: frozenlist>=1.1.1 in c:\\users\\haole\\anaconda3\\lib\\site-packages (from aiohttp->datasets->-r requirements.txt (line 1)) (1.2.0)\n",
      "Requirement already satisfied: aiosignal>=1.1.2 in c:\\users\\haole\\anaconda3\\lib\\site-packages (from aiohttp->datasets->-r requirements.txt (line 1)) (1.2.0)\n",
      "Requirement already satisfied: multidict<7.0,>=4.5 in c:\\users\\haole\\anaconda3\\lib\\site-packages (from aiohttp->datasets->-r requirements.txt (line 1)) (5.1.0)\n",
      "Requirement already satisfied: yarl<2.0,>=1.0 in c:\\users\\haole\\anaconda3\\lib\\site-packages (from aiohttp->datasets->-r requirements.txt (line 1)) (1.6.3)\n",
      "Requirement already satisfied: MarkupSafe>=0.23 in c:\\users\\haole\\anaconda3\\lib\\site-packages (from jinja2->spacy->-r requirements.txt (line 2)) (2.0.1)\n",
      "Note: you may need to restart the kernel to use updated packages.\n"
     ]
    }
   ],
   "source": [
    "pip install -r requirements.txt"
   ]
  },
  {
   "cell_type": "markdown",
   "id": "8d11dd6a",
   "metadata": {},
   "source": [
    "### Import libraries :"
   ]
  },
  {
   "cell_type": "code",
   "execution_count": 1,
   "id": "fbfd43eb",
   "metadata": {
    "colab": {
     "base_uri": "https://localhost:8080/",
     "height": 373
    },
    "id": "fbfd43eb",
    "outputId": "15a32f3c-afc5-4fb2-f3be-fbebba6e8276"
   },
   "outputs": [],
   "source": [
    "import json \n",
    "import tensorflow as tf\n",
    "import numpy as np\n",
    "import pandas as pd\n",
    "import datasets\n",
    "from datasets import list_datasets, load_dataset\n",
    "from tf2crf import CRF, ModelWithCRFLoss, ModelWithCRFLossDSCLoss\n",
    "from sklearn.metrics import confusion_matrix, ConfusionMatrixDisplay\n",
    "import matplotlib.pyplot as plt"
   ]
  },
  {
   "cell_type": "markdown",
   "id": "a298a4c5",
   "metadata": {
    "id": "a298a4c5"
   },
   "source": [
    "### Load dataset :"
   ]
  },
  {
   "cell_type": "code",
   "execution_count": 2,
   "id": "35b66e1b",
   "metadata": {
    "colab": {
     "base_uri": "https://localhost:8080/",
     "height": 200,
     "referenced_widgets": [
      "2f1979b1ec6a4e83b0257a51ec767e60",
      "f949fa2d62a040d9be9bd9899cc15ce7",
      "cf5b44fe086145c784713a30fa122dbb",
      "1f2108e55b144fd8af3dd7d1848e321e",
      "a1082e4f7d564e8ab0ffd2111a67b489",
      "eb3e9c765bab4aeeb1ee366ff7b4a0e4",
      "2a92c4102b9848c381b6992a4e0135fb",
      "46ea4b7599cb4e968baf5a5409f0f8d1",
      "96217d9b0b3d4aa9ac7c1f72daf8ea8d",
      "ae7614cb8e6e4378bfa5f0e361e98fca",
      "25d642d3ca654b6889cdb4585937a49a",
      "721a42f917214c9f8bd120e9b53e177b",
      "031c8bb6dfab4ddaa2c43cb7420450f3",
      "285c7a9ae7d749f9aae79118b5747497",
      "2068f99de83f458e8c1d8fa238a1f884",
      "52095bbc664b445c86d23dade70469bf",
      "451e0f3c662b4e828cdba25475c4d8f8",
      "001b94ed78d246efbcdee2862015b245",
      "1c8d589fba034397bd3fcac0be3b3ecd",
      "ee0c156906f54b3cb08f7a0aae0ab875",
      "abafc3f9d561465cb785e81b63a9a80f",
      "9fdbd241773a462ea078fb9a07834ddc",
      "c4833eb04e2e494997bc430c036f010d",
      "3a862bce28594526bb0ef29cd748f39c",
      "b379e218754443b280c3dab735bb3cb4",
      "18cfb0236a4c46bb84db9dc2e0bc6d0f",
      "7422ce33f30844e391e3008dc5de8cb9",
      "5cc653c8c7814f50a78f2db3de74b3ae",
      "f69e017641d1411fa242cd0ec7e4cd83",
      "9515d9ff234d441eabe9f0e1c241dee8",
      "247fe5560b614edf8e16830e46ab092a",
      "8b0d485a1b984f57b6416ba40ee3fe82",
      "c0a2f328e9b24f9dbc6ce4a85682bc37",
      "ad848a43c4054bcebdbdb5fb4540790f",
      "081e9ecb3cf342d5aa00ae1432a2c1dc",
      "b13cc30f3b6e410aa08105902f541255",
      "f2b9c4df5c324661b0cfd436e1d571a2",
      "cee2e17531db44ffa6037b077b3e44f9",
      "f353b71b8fc8429d97a2f3c476c43ec8",
      "f4e9ec0555124537bd0359b262a09b3c",
      "6fd193296492438a8981ea7114f7b129",
      "9ea4c606fe52406b8320ea1852e6bfd6",
      "45e13793581846e1878e5b2c6eeb42d0",
      "0f07aff1b09d413ebf0cef2cb603b06e",
      "8415c9bea2224f6d88535b27d3c45400",
      "43f7beb4f0d544baa27660958bc7153d",
      "80c355518f5c48a9a3110fa8fde15b33",
      "b0ebeb105ec24b3392b6e88cfa36a116",
      "e25c15679d8943e9bedd92d418018778",
      "e5fcc53938a2473b9cf31c25f887db10",
      "95ea07f2f46f4e32827f68bcd0b1ed4f",
      "07a95fdd27f241cc81b57c512b6ae4b4",
      "b765eae23aa84ad3835ac7a4a459a331",
      "268fee8d07764130a6a3ff5b8663ac19",
      "5f6af55bc8884843afe09a45d0c3a07e",
      "e210dadea0a148719ab0b0546b2aa3b0",
      "97505942ca3f4334859071caeecefbeb",
      "88b475d599784528af0fe1927afb6ce4",
      "d4cbed37612945d08d1fab4a11d3f61c",
      "ff350825659d4bd5a011e1a9b275614b",
      "c1b4ba874fa0450da83a99ae04898aff",
      "3fc2d247f92647899d5136829edf85f3",
      "fca3f899db8646008a86261606b6f57b",
      "f5916095293841319fd52d1c6957cbe7",
      "dbeb753f2f0a4cea9672cb8ac1e4acaa",
      "07df3c5840ee4a91af4fb895ab62abc1"
     ]
    },
    "id": "35b66e1b",
    "outputId": "d40000d6-f083-4ed3-945f-2994e50b8c8c"
   },
   "outputs": [
    {
     "name": "stderr",
     "output_type": "stream",
     "text": [
      "Found cached dataset corpus_cas_m2 (C:/Users/HaoLE/.cache/huggingface/datasets/corpus_cas_m2/default/1.0.0/1e18a23d323119b28ca96ca83baeaf676e58908f30122e75a54225833f284766)\n"
     ]
    },
    {
     "data": {
      "application/vnd.jupyter.widget-view+json": {
       "model_id": "4adbf0cede3345b5be029c4f4438e29b",
       "version_major": 2,
       "version_minor": 0
      },
      "text/plain": [
       "  0%|          | 0/3 [00:00<?, ?it/s]"
      ]
     },
     "metadata": {},
     "output_type": "display_data"
    }
   ],
   "source": [
    "corpusCasM2 = datasets.load_dataset('corpusCasM2')"
   ]
  },
  {
   "cell_type": "code",
   "execution_count": 3,
   "id": "c9b793fc",
   "metadata": {
    "colab": {
     "base_uri": "https://localhost:8080/"
    },
    "id": "c9b793fc",
    "outputId": "17723167-4986-4b02-a759-c125c6a0b6e9"
   },
   "outputs": [
    {
     "data": {
      "text/plain": [
       "DatasetDict({\n",
       "    train: Dataset({\n",
       "        features: ['id', 'tokens', 'ner_tags'],\n",
       "        num_rows: 8305\n",
       "    })\n",
       "    test: Dataset({\n",
       "        features: ['id', 'tokens', 'ner_tags'],\n",
       "        num_rows: 2545\n",
       "    })\n",
       "    validation: Dataset({\n",
       "        features: ['id', 'tokens', 'ner_tags'],\n",
       "        num_rows: 2122\n",
       "    })\n",
       "})"
      ]
     },
     "execution_count": 3,
     "metadata": {},
     "output_type": "execute_result"
    }
   ],
   "source": [
    "corpusCasM2"
   ]
  },
  {
   "cell_type": "code",
   "execution_count": 35,
   "id": "52def440",
   "metadata": {
    "colab": {
     "base_uri": "https://localhost:8080/",
     "height": 121,
     "referenced_widgets": [
      "091fcbec0e184a6690e017c8fc319c42",
      "3561fb3ca2e446cc8e1fb1bf9a00f6ac",
      "2ccc5e7e8f594f6e90869204d35d8093",
      "6737e1dc58c5409186fd4ff95325552a",
      "cf771d85cf5749c0b27721aeb80aaea4",
      "c237d5aee4494cc59b28fb14782dcc93",
      "4036b7f56893411fa1e12b2ae4077332",
      "cc9269789ea64326911666c3639cdb26",
      "7d96ebb9c2074f398e13bc6996d8c32d",
      "d972444520b24d9e9b54e764f09a64cb",
      "67f87ee6ce66476488cfca03be8bc933"
     ]
    },
    "id": "52def440",
    "outputId": "05efdb22-2e6b-4471-95be-2e7fe65fa481",
    "scrolled": true
   },
   "outputs": [
    {
     "name": "stdout",
     "output_type": "stream",
     "text": [
      "{'id': '647_000', 'tokens': ['En', '1988', ',', 'F.G.', ',', 'un', 'homme', 'de', '58', 'ans', ',', 'tabagique', 'ancien', ',', 'a', 'présenté', 'une', 'hématurie', 'totale', 'en', 'rapport', 'avec', 'une', 'tumeur', 'vésicale', 'unique', ',', 'paraméatique', 'gauche', ',', 'sans', 'anomalie', 'urographique', '.'], 'ner_tags': [12, 0, 12, 12, 12, 12, 12, 12, 0, 1, 12, 4, 5, 12, 12, 12, 12, 4, 5, 12, 12, 12, 12, 4, 5, 5, 5, 5, 5, 12, 12, 4, 5, 12]}\n",
      "8305\n"
     ]
    }
   ],
   "source": [
    "train = corpusCasM2['train']\n",
    "\n",
    "test = corpusCasM2['test']\n",
    "\n",
    "validation = corpusCasM2['validation']\n"
   ]
  },
  {
   "cell_type": "code",
   "execution_count": 36,
   "id": "97ac9586",
   "metadata": {
    "colab": {
     "base_uri": "https://localhost:8080/"
    },
    "id": "97ac9586",
    "outputId": "538b871c-2596-4f12-c50e-f20d041f0a74"
   },
   "outputs": [
    {
     "name": "stdout",
     "output_type": "stream",
     "text": [
      "{'id': '743_000', 'tokens': ['Nous', 'rapportons', 'l’', 'observation', 'd’', 'un', 'patient', 'de', '38', 'ans', ',', 'sans', 'antécédents', 'pathologiques', 'particuliers', ',', 'ayant', 'consulté', 'pour', 'des', 'lombalgies', 'chroniques', 'associées', 'à', 'de', 'signes', 'obstructifs', 'et', 'irritatifs', 'du', 'bas', 'appareil', 'urinaire', 'et', 'un', 'épisode', 'd’', 'hématurie', ',', 'le', 'tout', 'évoluant', 'depuis', '06', 'mois', '.'], 'ner_tags': [12, 12, 12, 12, 12, 12, 12, 12, 0, 1, 12, 12, 2, 12, 12, 12, 12, 12, 12, 12, 4, 5, 12, 12, 12, 4, 5, 12, 4, 4, 5, 5, 5, 12, 12, 12, 12, 4, 12, 12, 12, 12, 2, 3, 3, 12]}\n",
      "2545\n"
     ]
    }
   ],
   "source": [
    "print(train[0])\n",
    "print(len(train))\n",
    "print(test[0])\n",
    "print(len(test))\n",
    "print(validation[0])\n",
    "print(len(validation))"
   ]
  },
  {
   "cell_type": "code",
   "execution_count": 37,
   "id": "982364ef",
   "metadata": {
    "colab": {
     "base_uri": "https://localhost:8080/"
    },
    "id": "982364ef",
    "outputId": "a5bc3c76-00b1-4f08-c089-967c7343d0c5"
   },
   "outputs": [
    {
     "name": "stdout",
     "output_type": "stream",
     "text": [
      "{'id': '730_000', 'tokens': ['Une', 'jeune', 'femme', 'de', '28', 'ans', 'rencontre', 'un', 'homme', 'de', '41', 'ans', 'dans', 'un', 'club', 'de', 'sport', '.'], 'ner_tags': [12, 12, 12, 12, 0, 1, 12, 12, 12, 12, 0, 1, 12, 12, 12, 12, 12, 12]}\n",
      "2122\n"
     ]
    }
   ],
   "source": []
  },
  {
   "cell_type": "markdown",
   "id": "4075a528",
   "metadata": {
    "id": "4075a528"
   },
   "source": [
    "### X_train, X_test, X_val : list of words "
   ]
  },
  {
   "cell_type": "code",
   "execution_count": 7,
   "id": "1f90a9ab",
   "metadata": {
    "colab": {
     "base_uri": "https://localhost:8080/",
     "height": 106
    },
    "id": "1f90a9ab",
    "outputId": "346ecf15-c0a2-43b5-c59e-d3b91e4b1e3f"
   },
   "outputs": [
    {
     "name": "stdout",
     "output_type": "stream",
     "text": [
      "['En', '1988', ',', 'F.G.', ',', 'un', 'homme', 'de', '58', 'ans', ',', 'tabagique', 'ancien', ',', 'a', 'présenté', 'une', 'hématurie', 'totale', 'en', 'rapport', 'avec', 'une', 'tumeur', 'vésicale', 'unique', ',', 'paraméatique', 'gauche', ',', 'sans', 'anomalie', 'urographique', '.']\n",
      "8305\n",
      "['Nous', 'rapportons', 'l’', 'observation', 'd’', 'un', 'patient', 'de', '38', 'ans', ',', 'sans', 'antécédents', 'pathologiques', 'particuliers', ',', 'ayant', 'consulté', 'pour', 'des', 'lombalgies', 'chroniques', 'associées', 'à', 'de', 'signes', 'obstructifs', 'et', 'irritatifs', 'du', 'bas', 'appareil', 'urinaire', 'et', 'un', 'épisode', 'd’', 'hématurie', ',', 'le', 'tout', 'évoluant', 'depuis', '06', 'mois', '.']\n",
      "2545\n"
     ]
    }
   ],
   "source": [
    "# words tokens dans la variable X\n",
    "X_train = [ex['tokens'] for ex in train]\n",
    "    \n",
    "X_test = [ex['tokens'] for ex in test]\n",
    "\n",
    "X_val = [ex['tokens'] for ex in validation]\n"
   ]
  },
  {
   "cell_type": "code",
   "execution_count": 8,
   "id": "FHE8Yh8H2tjU",
   "metadata": {
    "colab": {
     "base_uri": "https://localhost:8080/"
    },
    "id": "FHE8Yh8H2tjU",
    "outputId": "afc9b682-2758-4c82-9ac3-3bd57042e252"
   },
   "outputs": [
    {
     "name": "stdout",
     "output_type": "stream",
     "text": [
      "['Une', 'jeune', 'femme', 'de', '28', 'ans', 'rencontre', 'un', 'homme', 'de', '41', 'ans', 'dans', 'un', 'club', 'de', 'sport', '.']\n",
      "2122\n"
     ]
    }
   ],
   "source": [
    "print(X_val[0])\n",
    "print(len(X_val))"
   ]
  },
  {
   "cell_type": "markdown",
   "id": "6c3cac21",
   "metadata": {
    "id": "6c3cac21"
   },
   "source": [
    "### Y_train, Y_test, Y_val : list of tags"
   ]
  },
  {
   "cell_type": "code",
   "execution_count": 9,
   "id": "3ca092ca",
   "metadata": {
    "colab": {
     "base_uri": "https://localhost:8080/"
    },
    "id": "3ca092ca",
    "outputId": "e6b0a5d1-b94b-4072-f693-483d24a87886"
   },
   "outputs": [
    {
     "name": "stdout",
     "output_type": "stream",
     "text": [
      "[12, 0, 12, 12, 12, 12, 12, 12, 0, 1, 12, 4, 5, 12, 12, 12, 12, 4, 5, 12, 12, 12, 12, 4, 5, 5, 5, 5, 5, 12, 12, 4, 5, 12]\n",
      "8305\n",
      "[12, 12, 12, 12, 12, 12, 12, 12, 0, 1, 12, 12, 2, 12, 12, 12, 12, 12, 12, 12, 4, 5, 12, 12, 12, 4, 5, 12, 4, 4, 5, 5, 5, 12, 12, 12, 12, 4, 12, 12, 12, 12, 2, 3, 3, 12]\n",
      "2545\n"
     ]
    }
   ],
   "source": [
    "# ner_tags dans la variable Y\n",
    "\n",
    "Y_train = [ex['ner_tags'] for ex in train]\n",
    "\n",
    "Y_test = [ex['ner_tags'] for ex in test]\n",
    "\n",
    "Y_val = [ex['ner_tags'] for ex in validation]"
   ]
  },
  {
   "cell_type": "code",
   "execution_count": 10,
   "id": "0Zylvxis3bxE",
   "metadata": {
    "colab": {
     "base_uri": "https://localhost:8080/"
    },
    "id": "0Zylvxis3bxE",
    "outputId": "10237607-4b9d-4eb4-91d9-802cbfa2b2a5"
   },
   "outputs": [
    {
     "name": "stdout",
     "output_type": "stream",
     "text": [
      "[12, 12, 12, 12, 0, 1, 12, 12, 12, 12, 0, 1, 12, 12, 12, 12, 12, 12]\n",
      "2122\n"
     ]
    }
   ],
   "source": [
    "\n",
    "print(Y_val[0])\n",
    "print(len(Y_val))"
   ]
  },
  {
   "cell_type": "code",
   "execution_count": 11,
   "id": "60907d45",
   "metadata": {},
   "outputs": [
    {
     "data": {
      "text/plain": [
       "13"
      ]
     },
     "execution_count": 11,
     "metadata": {},
     "output_type": "execute_result"
    }
   ],
   "source": [
    "# number of tags with tag \"O\"\n",
    "n_tags = len(set(sum(Y_train, [])))\n",
    "n_tags"
   ]
  },
  {
   "cell_type": "code",
   "execution_count": 12,
   "id": "LsudFTqz0bhE",
   "metadata": {
    "id": "LsudFTqz0bhE"
   },
   "outputs": [],
   "source": [
    "# number of tags without tag \"O\" : \n",
    "cat_vocab = 12\n"
   ]
  },
  {
   "cell_type": "code",
   "execution_count": 13,
   "id": "7b2545c1",
   "metadata": {
    "id": "7b2545c1"
   },
   "outputs": [],
   "source": [
    "# \"B-date\",\"I-date\",\"B-duration\",\"I-duration\",\"B-problem\",\"I-problem\",\"B-treatment\",\"I-treatment\",\"B-test\",\"I-test\",\n",
    "# \"B-frequency\",\"I-frequency\",\"O\"\n",
    "\n",
    "#Y_train_id = Y_train = tag2idx\n",
    "#Y_test_id = Y_test"
   ]
  },
  {
   "cell_type": "code",
   "execution_count": 14,
   "id": "0e87c6c3",
   "metadata": {
    "id": "0e87c6c3"
   },
   "outputs": [],
   "source": [
    "#Y_train_id = np.array([map(float, line.split()) for line in Y_train])"
   ]
  },
  {
   "cell_type": "markdown",
   "id": "5ff5451b",
   "metadata": {
    "id": "5ff5451b"
   },
   "source": [
    "### tokenize X_train, X_test, X_val"
   ]
  },
  {
   "cell_type": "code",
   "execution_count": 15,
   "id": "11bb195c",
   "metadata": {
    "colab": {
     "base_uri": "https://localhost:8080/"
    },
    "id": "11bb195c",
    "outputId": "95d7139a-16f7-4c9f-f439-934721aefc79"
   },
   "outputs": [
    {
     "data": {
      "text/plain": [
       "347"
      ]
     },
     "execution_count": 15,
     "metadata": {},
     "output_type": "execute_result"
    }
   ],
   "source": [
    "# longueur maximale des tokens dans dataset X_train, variable max_len : length of the longest sequence\n",
    "maxlen = max([len(s) for s in X_train])\n",
    "maxlen"
   ]
  },
  {
   "cell_type": "code",
   "execution_count": 16,
   "id": "041b8eb3",
   "metadata": {
    "id": "041b8eb3"
   },
   "outputs": [],
   "source": [
    "# Créer le tokenizer\n",
    "num_w = 20000\n",
    "tokenizer = tf.keras.preprocessing.text.Tokenizer(num_words= num_w)"
   ]
  },
  {
   "cell_type": "code",
   "execution_count": 17,
   "id": "3e9a167e",
   "metadata": {
    "id": "3e9a167e"
   },
   "outputs": [],
   "source": [
    "# Entrainer le tokenizer sur le train set \n",
    "tokenizer.fit_on_texts(X_train)"
   ]
  },
  {
   "cell_type": "code",
   "execution_count": 18,
   "id": "8fd51462",
   "metadata": {},
   "outputs": [],
   "source": [
    "#tokenizer.word_index"
   ]
  },
  {
   "cell_type": "code",
   "execution_count": 19,
   "id": "38223fed",
   "metadata": {
    "id": "38223fed"
   },
   "outputs": [],
   "source": [
    "# Transformer les textes en vecteurs numeriques à l'aide du tokenizer\n",
    "X_train_seq = tokenizer.texts_to_sequences(X_train)\n",
    "X_test_seq = tokenizer.texts_to_sequences(X_test)"
   ]
  },
  {
   "cell_type": "code",
   "execution_count": 20,
   "id": "d4KKdIMc5fUl",
   "metadata": {
    "id": "d4KKdIMc5fUl"
   },
   "outputs": [],
   "source": [
    "X_val_seq = tokenizer.texts_to_sequences(X_val)"
   ]
  },
  {
   "cell_type": "code",
   "execution_count": 21,
   "id": "1657f8e5",
   "metadata": {
    "colab": {
     "base_uri": "https://localhost:8080/"
    },
    "id": "1657f8e5",
    "outputId": "ae9a3e87-2704-442c-8592-1474aaabf3e7"
   },
   "outputs": [
    {
     "name": "stdout",
     "output_type": "stream",
     "text": [
      "[15, 3232, 3, 7186, 3, 10, 208, 1, 1736, 35, 3, 1597, 1359, 3, 11, 219, 4, 174, 192, 15, 338, 21, 4, 69, 114, 1274, 3, 7187, 46, 3, 36, 380, 3905, 2]\n",
      "['En', '1988', ',', 'F.G.', ',', 'un', 'homme', 'de', '58', 'ans', ',', 'tabagique', 'ancien', ',', 'a', 'présenté', 'une', 'hématurie', 'totale', 'en', 'rapport', 'avec', 'une', 'tumeur', 'vésicale', 'unique', ',', 'paraméatique', 'gauche', ',', 'sans', 'anomalie', 'urographique', '.']\n"
     ]
    }
   ],
   "source": [
    "print(X_train_seq[0])\n",
    "print(X_train[0])"
   ]
  },
  {
   "cell_type": "code",
   "execution_count": 22,
   "id": "_q7VqtWl6kJX",
   "metadata": {
    "colab": {
     "base_uri": "https://localhost:8080/"
    },
    "id": "_q7VqtWl6kJX",
    "outputId": "f2d9536d-c9c9-42c6-b0ab-755525d838c4"
   },
   "outputs": [
    {
     "name": "stdout",
     "output_type": "stream",
     "text": [
      "[168, 2091, 8, 1268, 14, 10, 38, 1, 634, 35, 3, 36, 116, 489, 521, 3, 226, 358, 31, 16, 1250, 1767, 559, 7, 1, 179, 5387, 6, 8589, 18, 753, 868, 117, 6, 10, 475, 14, 174, 3, 9, 413, 232, 76, 2560, 49, 2]\n",
      "['Nous', 'rapportons', 'l’', 'observation', 'd’', 'un', 'patient', 'de', '38', 'ans', ',', 'sans', 'antécédents', 'pathologiques', 'particuliers', ',', 'ayant', 'consulté', 'pour', 'des', 'lombalgies', 'chroniques', 'associées', 'à', 'de', 'signes', 'obstructifs', 'et', 'irritatifs', 'du', 'bas', 'appareil', 'urinaire', 'et', 'un', 'épisode', 'd’', 'hématurie', ',', 'le', 'tout', 'évoluant', 'depuis', '06', 'mois', '.']\n"
     ]
    }
   ],
   "source": [
    "print(X_test_seq[0])\n",
    "print(X_test[0])"
   ]
  },
  {
   "cell_type": "code",
   "execution_count": 23,
   "id": "NenZvWcA5m2I",
   "metadata": {
    "colab": {
     "base_uri": "https://localhost:8080/"
    },
    "id": "NenZvWcA5m2I",
    "outputId": "8797fdc7-4a18-4f5f-8227-254944fb4dcc"
   },
   "outputs": [
    {
     "name": "stdout",
     "output_type": "stream",
     "text": [
      "[4, 378, 304, 1, 821, 35, 13293, 10, 208, 1, 3770, 35, 33, 10, 1, 2]\n",
      "['Une', 'jeune', 'femme', 'de', '28', 'ans', 'rencontre', 'un', 'homme', 'de', '41', 'ans', 'dans', 'un', 'club', 'de', 'sport', '.']\n"
     ]
    }
   ],
   "source": [
    "print(X_val_seq[0])\n",
    "print(X_val[0])"
   ]
  },
  {
   "cell_type": "markdown",
   "id": "87c3b147",
   "metadata": {
    "id": "87c3b147"
   },
   "source": [
    "## Pad the obtained sequences so that they all have the same size (cf the `pad_sequences` function)"
   ]
  },
  {
   "cell_type": "code",
   "execution_count": 24,
   "id": "55df07fd",
   "metadata": {
    "id": "55df07fd"
   },
   "outputs": [],
   "source": [
    "# Padding des sequences X_train_seq , Y_train\n",
    "\n",
    "pad_X_train_seq  = tf.keras.preprocessing.sequence.pad_sequences(X_train_seq,dtype='int32',\n",
    "                                                             maxlen = maxlen, \n",
    "                                                             padding='post', value = num_w - 1)   #padding value = numwords - 1 ?\n",
    "pad_Y_train = tf.keras.preprocessing.sequence.pad_sequences(Y_train,dtype='int32',\n",
    "                                                             maxlen = maxlen, \n",
    "                                                             padding='post', value = 12)  #padding  #12 = tag \"O\"\n",
    "\n"
   ]
  },
  {
   "cell_type": "code",
   "execution_count": 25,
   "id": "3fbdf2cd",
   "metadata": {},
   "outputs": [
    {
     "data": {
      "text/plain": [
       "((8305, 347), (8305, 347))"
      ]
     },
     "execution_count": 25,
     "metadata": {},
     "output_type": "execute_result"
    }
   ],
   "source": [
    "pad_X_train_seq.shape, pad_Y_train.shape"
   ]
  },
  {
   "cell_type": "code",
   "execution_count": 26,
   "id": "888f570b",
   "metadata": {
    "id": "888f570b"
   },
   "outputs": [],
   "source": [
    "# Padding des sequences X_test_seq , Y_test\n",
    "\n",
    "pad_X_test_seq  = tf.keras.preprocessing.sequence.pad_sequences(X_test_seq,dtype='int32',\n",
    "                                                             maxlen = maxlen,    \n",
    "                                                             padding='post', value = num_w - 1)\n",
    "pad_Y_test  = tf.keras.preprocessing.sequence.pad_sequences(Y_test,dtype='int32',\n",
    "                                                             maxlen = maxlen,  \n",
    "                                                             padding='post', value = 12)  "
   ]
  },
  {
   "cell_type": "code",
   "execution_count": 27,
   "id": "68680b93",
   "metadata": {},
   "outputs": [
    {
     "data": {
      "text/plain": [
       "((2545, 347), (2545, 347))"
      ]
     },
     "execution_count": 27,
     "metadata": {},
     "output_type": "execute_result"
    }
   ],
   "source": [
    "pad_X_test_seq.shape, pad_Y_test.shape"
   ]
  },
  {
   "cell_type": "code",
   "execution_count": 28,
   "id": "CWOSHHBR6swj",
   "metadata": {
    "id": "CWOSHHBR6swj"
   },
   "outputs": [],
   "source": [
    "# Padding des sequences X_val_seq , Y_val\n",
    "\n",
    "pad_X_val_seq  = tf.keras.preprocessing.sequence.pad_sequences(X_val_seq,dtype='int32',\n",
    "                                                             maxlen = maxlen, \n",
    "                                                             padding='post', value = num_w - 1)\n",
    "pad_Y_val  = tf.keras.preprocessing.sequence.pad_sequences(Y_val,dtype='int32',\n",
    "                                                             maxlen = maxlen, \n",
    "                                                             padding='post', value = 12)"
   ]
  },
  {
   "cell_type": "code",
   "execution_count": 29,
   "id": "1282f1a7",
   "metadata": {},
   "outputs": [
    {
     "data": {
      "text/plain": [
       "((2122, 347), (2122, 347))"
      ]
     },
     "execution_count": 29,
     "metadata": {},
     "output_type": "execute_result"
    }
   ],
   "source": [
    "pad_X_val_seq.shape, pad_Y_val.shape"
   ]
  },
  {
   "cell_type": "code",
   "execution_count": 30,
   "id": "565132bb",
   "metadata": {
    "colab": {
     "base_uri": "https://localhost:8080/"
    },
    "id": "565132bb",
    "outputId": "037ba717-b786-4b74-c941-67613918361f"
   },
   "outputs": [
    {
     "name": "stdout",
     "output_type": "stream",
     "text": [
      "347\n",
      "347\n",
      "8305\n",
      "8305\n",
      "347\n",
      "347\n",
      "2545\n",
      "2545\n",
      "347\n",
      "347\n"
     ]
    }
   ],
   "source": [
    "# Verifier les longueurs maximauxs du X et Y \n",
    "\n",
    "print(len(pad_X_train_seq[0]))\n",
    "print(len(pad_Y_train[0]))\n",
    "\n",
    "print(len(pad_X_train_seq))\n",
    "print(len(pad_Y_train))\n",
    "\n",
    "print(len(pad_X_test_seq[0]))\n",
    "print(len(pad_Y_test[0]))\n",
    "\n",
    "print(len(pad_X_test_seq))\n",
    "print(len(pad_Y_test)) \n",
    "\n",
    "print(len(pad_X_val_seq[0]))\n",
    "print(len(pad_Y_val[0]))\n",
    "\n",
    "#print(pad_X_test_seq[0])"
   ]
  },
  {
   "cell_type": "code",
   "execution_count": 31,
   "id": "7b783716",
   "metadata": {
    "colab": {
     "base_uri": "https://localhost:8080/"
    },
    "id": "7b783716",
    "outputId": "ac4391aa-c502-4c93-dd96-1af028f0a475"
   },
   "outputs": [
    {
     "name": "stdout",
     "output_type": "stream",
     "text": [
      "input_dim:  14004 \n",
      "output_dim:  32 \n",
      "input_length:  347 \n",
      "n_tags:  13\n"
     ]
    }
   ],
   "source": [
    "input_dim = max([max(s) for s in X_train_seq]) + 1  \n",
    "output_dim = 32\n",
    "input_length = maxlen\n",
    "\n",
    "print('input_dim: ', input_dim, '\\noutput_dim: ', output_dim, '\\ninput_length: ', input_length, '\\nn_tags: ', n_tags)\n"
   ]
  },
  {
   "cell_type": "markdown",
   "id": "70d19e99",
   "metadata": {
    "id": "70d19e99"
   },
   "source": [
    "### Build the model layout"
   ]
  },
  {
   "cell_type": "code",
   "execution_count": 33,
   "id": "4d6f51a0",
   "metadata": {
    "colab": {
     "base_uri": "https://localhost:8080/"
    },
    "id": "4d6f51a0",
    "outputId": "ff4ed8e4-9375-4e9e-fd31-3460030501c8"
   },
   "outputs": [
    {
     "name": "stdout",
     "output_type": "stream",
     "text": [
      "WARNING:tensorflow:From C:\\Users\\HaoLE\\anaconda3\\lib\\site-packages\\tensorflow\\python\\autograph\\pyct\\static_analysis\\liveness.py:83: Analyzer.lamba_check (from tensorflow.python.autograph.pyct.static_analysis.liveness) is deprecated and will be removed after 2023-09-23.\n",
      "Instructions for updating:\n",
      "Lambda fuctions will be no more assumed to be used in the statement where they are used, or at least in the same block. https://github.com/tensorflow/tensorflow/issues/56089\n",
      "Model: \"model\"\n",
      "_________________________________________________________________\n",
      " Layer (type)                Output Shape              Param #   \n",
      "=================================================================\n",
      " input_1 (InputLayer)        [(None, 347)]             0         \n",
      "                                                                 \n",
      " embedding (Embedding)       (None, 347, 32)           640032    \n",
      "                                                                 \n",
      " bidirectional (Bidirectiona  (None, 347, 128)         49664     \n",
      " l)                                                              \n",
      "                                                                 \n",
      " time_distributed (TimeDistr  (None, 347, 16)          2064      \n",
      " ibuted)                                                         \n",
      "                                                                 \n",
      " crf (CRF)                   ((None, 347),             390       \n",
      "                              (None, 347, 13),                   \n",
      "                              (None,),                           \n",
      "                              (13, 13))                          \n",
      "                                                                 \n",
      "=================================================================\n",
      "Total params: 692,150\n",
      "Trainable params: 692,150\n",
      "Non-trainable params: 0\n",
      "_________________________________________________________________\n"
     ]
    }
   ],
   "source": [
    "# from tensorflow.keras import Sequential, Model, Input\n",
    "# from tensorflow.keras.layers import LSTM, Embedding, Dense, TimeDistributed, Dropout, Bidirectional\n",
    "\n",
    "# inputs = Input(shape=(input_length,), dtype='int32')\n",
    "# output = Embedding(num_w + 1, 32)(inputs)\n",
    "# output = Bidirectional(LSTM(64, return_sequences=True))(output)\n",
    "# output = TimeDistributed(Dense(16, activation=\"relu\"))(output)\n",
    "# crf = CRF(n_tags)\n",
    "# output= crf(output)\n",
    "# basemodel = Model(inputs, output)\n",
    "# model = ModelWithCRFLossDSCLoss(basemodel, sparse_target=True)\n",
    "# model.compile(optimizer='adam')\n",
    "\n",
    "# basemodel.summary()"
   ]
  },
  {
   "cell_type": "code",
   "execution_count": 32,
   "id": "83837840",
   "metadata": {},
   "outputs": [
    {
     "name": "stdout",
     "output_type": "stream",
     "text": [
      "WARNING:tensorflow:From C:\\Users\\HaoLE\\anaconda3\\lib\\site-packages\\tensorflow\\python\\autograph\\pyct\\static_analysis\\liveness.py:83: Analyzer.lamba_check (from tensorflow.python.autograph.pyct.static_analysis.liveness) is deprecated and will be removed after 2023-09-23.\n",
      "Instructions for updating:\n",
      "Lambda fuctions will be no more assumed to be used in the statement where they are used, or at least in the same block. https://github.com/tensorflow/tensorflow/issues/56089\n",
      "Model: \"model\"\n",
      "_________________________________________________________________\n",
      " Layer (type)                Output Shape              Param #   \n",
      "=================================================================\n",
      " input_1 (InputLayer)        [(None, 347)]             0         \n",
      "                                                                 \n",
      " embedding (Embedding)       (None, 347, 32)           640032    \n",
      "                                                                 \n",
      " bidirectional (Bidirectiona  (None, 347, 128)         49664     \n",
      " l)                                                              \n",
      "                                                                 \n",
      " time_distributed (TimeDistr  (None, 347, 16)          2064      \n",
      " ibuted)                                                         \n",
      "                                                                 \n",
      " crf (CRF)                   ((None, 347),             390       \n",
      "                              (None, 347, 13),                   \n",
      "                              (None,),                           \n",
      "                              (13, 13))                          \n",
      "                                                                 \n",
      "=================================================================\n",
      "Total params: 692,150\n",
      "Trainable params: 692,150\n",
      "Non-trainable params: 0\n",
      "_________________________________________________________________\n"
     ]
    }
   ],
   "source": [
    "from tensorflow.keras import Sequential, Model, Input\n",
    "from tensorflow.keras.layers import LSTM, Embedding, Dense, TimeDistributed, Dropout, Bidirectional\n",
    "from tensorflow.keras.optimizers import Adam\n",
    "\n",
    "opt = Adam(learning_rate=9e-5)\n",
    "\n",
    "inputs = Input(shape=(input_length,), dtype='int32')\n",
    "output = Embedding(num_w + 1, 32)(inputs)\n",
    "output = Bidirectional(LSTM(64, return_sequences=True))(output)\n",
    "output = TimeDistributed(Dense(16, activation=\"relu\"))(output)\n",
    "crf = CRF(n_tags)\n",
    "output= crf(output)\n",
    "basemodel = Model(inputs, output)\n",
    "model = ModelWithCRFLoss(basemodel, sparse_target=True)\n",
    "model.compile(optimizer=opt)\n",
    "\n",
    "basemodel.summary()"
   ]
  },
  {
   "cell_type": "code",
   "execution_count": 33,
   "id": "9eadef97",
   "metadata": {},
   "outputs": [],
   "source": [
    "callback = tf.keras.callbacks.EarlyStopping(\n",
    "    monitor=\"val_val_accuracy\",\n",
    "    min_delta=0,\n",
    "    patience=50,\n",
    "    verbose=0,\n",
    "    mode=\"max\",\n",
    "    baseline=None,\n",
    "    restore_best_weights=False,\n",
    ")"
   ]
  },
  {
   "cell_type": "code",
   "execution_count": 34,
   "id": "278e84d3",
   "metadata": {
    "colab": {
     "base_uri": "https://localhost:8080/"
    },
    "id": "278e84d3",
    "outputId": "32f3f8f0-8cff-4740-b334-0e9b1f33d7a8",
    "scrolled": true
   },
   "outputs": [
    {
     "name": "stdout",
     "output_type": "stream",
     "text": [
      "Epoch 1/5000\n",
      "84/84 [==============================] - 144s 2s/step - loss: 835.6791 - accuracy: 0.0532 - val_loss_val: 774.2908 - val_val_accuracy: 6.9941e-04\n",
      "Epoch 2/5000\n",
      "84/84 [==============================] - 127s 2s/step - loss: 354.9476 - accuracy: 0.7486 - val_loss_val: 116.4951 - val_val_accuracy: 0.9849\n",
      "Epoch 3/5000\n",
      "84/84 [==============================] - 122s 1s/step - loss: 80.4820 - accuracy: 0.9850 - val_loss_val: 61.4965 - val_val_accuracy: 0.9849\n",
      "Epoch 4/5000\n",
      "84/84 [==============================] - 124s 1s/step - loss: 54.0999 - accuracy: 0.9850 - val_loss_val: 49.5711 - val_val_accuracy: 0.9849\n",
      "Epoch 5/5000\n",
      "84/84 [==============================] - 130s 2s/step - loss: 46.1520 - accuracy: 0.9850 - val_loss_val: 43.6357 - val_val_accuracy: 0.9849\n",
      "Epoch 6/5000\n",
      "84/84 [==============================] - 129s 2s/step - loss: 41.0165 - accuracy: 0.9850 - val_loss_val: 39.7515 - val_val_accuracy: 0.9849\n",
      "Epoch 7/5000\n",
      "84/84 [==============================] - 134s 2s/step - loss: 38.1144 - accuracy: 0.9850 - val_loss_val: 37.3102 - val_val_accuracy: 0.9849\n",
      "Epoch 8/5000\n",
      "84/84 [==============================] - 149s 2s/step - loss: 36.5567 - accuracy: 0.9850 - val_loss_val: 35.6577 - val_val_accuracy: 0.9849\n",
      "Epoch 9/5000\n",
      "84/84 [==============================] - 134s 2s/step - loss: 34.4607 - accuracy: 0.9850 - val_loss_val: 34.3699 - val_val_accuracy: 0.9849\n",
      "Epoch 10/5000\n",
      "84/84 [==============================] - 127s 2s/step - loss: 33.5748 - accuracy: 0.9850 - val_loss_val: 33.2198 - val_val_accuracy: 0.9849\n",
      "Epoch 11/5000\n",
      "84/84 [==============================] - 142s 2s/step - loss: 31.9904 - accuracy: 0.9850 - val_loss_val: 32.2580 - val_val_accuracy: 0.9849\n",
      "Epoch 12/5000\n",
      "84/84 [==============================] - 146s 2s/step - loss: 31.5473 - accuracy: 0.9849 - val_loss_val: 31.3658 - val_val_accuracy: 0.9849\n",
      "Epoch 13/5000\n",
      "84/84 [==============================] - 148s 2s/step - loss: 30.1113 - accuracy: 0.9849 - val_loss_val: 30.6697 - val_val_accuracy: 0.9849\n",
      "Epoch 14/5000\n",
      "84/84 [==============================] - 143s 2s/step - loss: 29.3369 - accuracy: 0.9850 - val_loss_val: 29.9627 - val_val_accuracy: 0.9849\n",
      "Epoch 15/5000\n",
      "84/84 [==============================] - 141s 2s/step - loss: 28.3596 - accuracy: 0.9850 - val_loss_val: 29.3173 - val_val_accuracy: 0.9849\n",
      "Epoch 16/5000\n",
      "84/84 [==============================] - 136s 2s/step - loss: 27.7742 - accuracy: 0.9850 - val_loss_val: 28.7244 - val_val_accuracy: 0.9849\n",
      "Epoch 17/5000\n",
      "84/84 [==============================] - 135s 2s/step - loss: 26.9235 - accuracy: 0.9850 - val_loss_val: 28.2135 - val_val_accuracy: 0.9849\n",
      "Epoch 18/5000\n",
      "84/84 [==============================] - 141s 2s/step - loss: 26.3047 - accuracy: 0.9850 - val_loss_val: 27.7799 - val_val_accuracy: 0.9849\n",
      "Epoch 19/5000\n",
      "84/84 [==============================] - 146s 2s/step - loss: 25.8904 - accuracy: 0.9850 - val_loss_val: 27.3872 - val_val_accuracy: 0.9849\n",
      "Epoch 20/5000\n",
      "84/84 [==============================] - 139s 2s/step - loss: 25.2790 - accuracy: 0.9850 - val_loss_val: 27.0284 - val_val_accuracy: 0.9849\n",
      "Epoch 21/5000\n",
      "84/84 [==============================] - 141s 2s/step - loss: 24.7957 - accuracy: 0.9849 - val_loss_val: 26.6985 - val_val_accuracy: 0.9849\n",
      "Epoch 22/5000\n",
      "84/84 [==============================] - 144s 2s/step - loss: 24.4072 - accuracy: 0.9849 - val_loss_val: 26.3255 - val_val_accuracy: 0.9849\n",
      "Epoch 23/5000\n",
      "84/84 [==============================] - 140s 2s/step - loss: 24.0963 - accuracy: 0.9849 - val_loss_val: 26.1599 - val_val_accuracy: 0.9849\n",
      "Epoch 24/5000\n",
      "84/84 [==============================] - 145s 2s/step - loss: 24.0119 - accuracy: 0.9849 - val_loss_val: 25.8625 - val_val_accuracy: 0.9849\n",
      "Epoch 25/5000\n",
      "84/84 [==============================] - 143s 2s/step - loss: 23.4800 - accuracy: 0.9850 - val_loss_val: 25.7281 - val_val_accuracy: 0.9849\n",
      "Epoch 26/5000\n",
      "84/84 [==============================] - 140s 2s/step - loss: 23.2293 - accuracy: 0.9850 - val_loss_val: 25.5151 - val_val_accuracy: 0.9849\n",
      "Epoch 27/5000\n",
      "84/84 [==============================] - 140s 2s/step - loss: 23.0911 - accuracy: 0.9849 - val_loss_val: 25.3480 - val_val_accuracy: 0.9849\n",
      "Epoch 28/5000\n",
      "84/84 [==============================] - 137s 2s/step - loss: 22.7034 - accuracy: 0.9850 - val_loss_val: 25.1412 - val_val_accuracy: 0.9849\n",
      "Epoch 29/5000\n",
      "84/84 [==============================] - 136s 2s/step - loss: 22.4314 - accuracy: 0.9850 - val_loss_val: 25.0940 - val_val_accuracy: 0.9849\n",
      "Epoch 30/5000\n",
      "84/84 [==============================] - 139s 2s/step - loss: 22.4045 - accuracy: 0.9849 - val_loss_val: 24.8063 - val_val_accuracy: 0.9849\n",
      "Epoch 31/5000\n",
      "84/84 [==============================] - 135s 2s/step - loss: 22.1305 - accuracy: 0.9849 - val_loss_val: 24.8786 - val_val_accuracy: 0.9849\n",
      "Epoch 32/5000\n",
      "84/84 [==============================] - 145s 2s/step - loss: 22.0079 - accuracy: 0.9849 - val_loss_val: 24.7234 - val_val_accuracy: 0.9849\n",
      "Epoch 33/5000\n",
      "84/84 [==============================] - 148s 2s/step - loss: 21.8926 - accuracy: 0.9849 - val_loss_val: 24.5896 - val_val_accuracy: 0.9849\n",
      "Epoch 34/5000\n",
      "84/84 [==============================] - 139s 2s/step - loss: 21.7015 - accuracy: 0.9849 - val_loss_val: 24.5064 - val_val_accuracy: 0.9849\n",
      "Epoch 35/5000\n",
      "84/84 [==============================] - 143s 2s/step - loss: 21.5638 - accuracy: 0.9849 - val_loss_val: 24.3859 - val_val_accuracy: 0.9849\n",
      "Epoch 36/5000\n",
      "84/84 [==============================] - 150s 2s/step - loss: 21.4137 - accuracy: 0.9849 - val_loss_val: 24.3382 - val_val_accuracy: 0.9849\n",
      "Epoch 37/5000\n",
      "84/84 [==============================] - 144s 2s/step - loss: 21.3927 - accuracy: 0.9849 - val_loss_val: 24.1394 - val_val_accuracy: 0.9849\n",
      "Epoch 38/5000\n",
      "84/84 [==============================] - 140s 2s/step - loss: 21.2849 - accuracy: 0.9850 - val_loss_val: 23.8981 - val_val_accuracy: 0.9849\n",
      "Epoch 39/5000\n",
      "84/84 [==============================] - 149s 2s/step - loss: 20.9349 - accuracy: 0.9850 - val_loss_val: 23.7378 - val_val_accuracy: 0.9849\n",
      "Epoch 40/5000\n",
      "84/84 [==============================] - 135s 2s/step - loss: 20.9459 - accuracy: 0.9850 - val_loss_val: 23.5792 - val_val_accuracy: 0.9849\n",
      "Epoch 41/5000\n",
      "84/84 [==============================] - 121s 1s/step - loss: 20.8930 - accuracy: 0.9850 - val_loss_val: 23.4752 - val_val_accuracy: 0.9849\n",
      "Epoch 42/5000\n",
      "84/84 [==============================] - 122s 1s/step - loss: 20.5380 - accuracy: 0.9850 - val_loss_val: 23.2924 - val_val_accuracy: 0.9849\n",
      "Epoch 43/5000\n",
      "84/84 [==============================] - 122s 1s/step - loss: 20.3755 - accuracy: 0.9850 - val_loss_val: 23.2637 - val_val_accuracy: 0.9849\n",
      "Epoch 44/5000\n",
      "84/84 [==============================] - 126s 1s/step - loss: 20.2260 - accuracy: 0.9850 - val_loss_val: 23.0169 - val_val_accuracy: 0.9849\n",
      "Epoch 45/5000\n",
      "84/84 [==============================] - 127s 2s/step - loss: 20.0383 - accuracy: 0.9850 - val_loss_val: 22.9299 - val_val_accuracy: 0.9849\n",
      "Epoch 46/5000\n",
      "84/84 [==============================] - 129s 2s/step - loss: 19.8251 - accuracy: 0.9850 - val_loss_val: 22.6129 - val_val_accuracy: 0.9849\n",
      "Epoch 47/5000\n",
      "84/84 [==============================] - 124s 1s/step - loss: 19.6081 - accuracy: 0.9850 - val_loss_val: 22.5109 - val_val_accuracy: 0.9849\n",
      "Epoch 48/5000\n",
      "84/84 [==============================] - 126s 1s/step - loss: 19.5076 - accuracy: 0.9850 - val_loss_val: 22.4703 - val_val_accuracy: 0.9849\n",
      "Epoch 49/5000\n",
      "84/84 [==============================] - 124s 1s/step - loss: 19.2657 - accuracy: 0.9850 - val_loss_val: 22.2995 - val_val_accuracy: 0.9849\n",
      "Epoch 50/5000\n",
      "84/84 [==============================] - 126s 2s/step - loss: 19.0651 - accuracy: 0.9850 - val_loss_val: 22.2406 - val_val_accuracy: 0.9849\n",
      "Epoch 51/5000\n",
      "84/84 [==============================] - 125s 1s/step - loss: 18.8013 - accuracy: 0.9851 - val_loss_val: 22.1129 - val_val_accuracy: 0.9849\n",
      "Epoch 52/5000\n",
      "84/84 [==============================] - 126s 1s/step - loss: 18.5054 - accuracy: 0.9851 - val_loss_val: 22.0577 - val_val_accuracy: 0.9849\n"
     ]
    },
    {
     "data": {
      "text/plain": [
       "<keras.callbacks.History at 0x1e109011d00>"
      ]
     },
     "execution_count": 34,
     "metadata": {},
     "output_type": "execute_result"
    }
   ],
   "source": [
    "# Fit the model \n",
    "\n",
    "model.fit(pad_X_train_seq, np.array(pad_Y_train), batch_size=100, callbacks=[callback], \n",
    "          verbose=1, epochs=5000, validation_data=(pad_X_val_seq, np.array(pad_Y_val)))"
   ]
  },
  {
   "cell_type": "code",
   "execution_count": 38,
   "id": "27db4b56",
   "metadata": {
    "colab": {
     "base_uri": "https://localhost:8080/"
    },
    "id": "27db4b56",
    "outputId": "2a5633d2-e8b7-47fc-a0e5-ac25c0427df0"
   },
   "outputs": [
    {
     "name": "stdout",
     "output_type": "stream",
     "text": [
      "80/80 [==============================] - 13s 167ms/step - loss_val: 20.6128 - val_accuracy: 0.9853\n"
     ]
    },
    {
     "data": {
      "text/plain": [
       "[21.312381744384766, 0.9850562810897827]"
      ]
     },
     "execution_count": 38,
     "metadata": {},
     "output_type": "execute_result"
    }
   ],
   "source": [
    "# Evaluate the model \n",
    "model.evaluate(pad_X_test_seq, np.array(pad_Y_test))"
   ]
  },
  {
   "cell_type": "code",
   "execution_count": 39,
   "id": "bf33bd22",
   "metadata": {
    "id": "bf33bd22"
   },
   "outputs": [
    {
     "name": "stdout",
     "output_type": "stream",
     "text": [
      "80/80 [==============================] - 11s 118ms/step\n"
     ]
    }
   ],
   "source": [
    "predictions = model.predict(pad_X_test_seq)"
   ]
  },
  {
   "cell_type": "code",
   "execution_count": 40,
   "id": "4947a67c",
   "metadata": {
    "id": "4947a67c"
   },
   "outputs": [],
   "source": [
    "cm = confusion_matrix(pad_Y_test.reshape(-1), predictions.reshape(-1))"
   ]
  },
  {
   "cell_type": "code",
   "execution_count": 41,
   "id": "6ae5acba",
   "metadata": {},
   "outputs": [],
   "source": [
    "disp = ConfusionMatrixDisplay(confusion_matrix=cm)"
   ]
  },
  {
   "cell_type": "code",
   "execution_count": 42,
   "id": "d8862a15",
   "metadata": {},
   "outputs": [
    {
     "data": {
      "text/plain": [
       "<sklearn.metrics._plot.confusion_matrix.ConfusionMatrixDisplay at 0x1e113e8b760>"
      ]
     },
     "execution_count": 42,
     "metadata": {},
     "output_type": "execute_result"
    },
    {
     "data": {
      "image/png": "[encoded data removed]",
      "text/plain": [
       "<Figure size 864x864 with 2 Axes>"
      ]
     },
     "metadata": {
      "needs_background": "light"
     },
     "output_type": "display_data"
    }
   ],
   "source": [
    "fig, ax = plt.subplots(figsize=(12,12))\n",
    "disp.plot(ax=ax)"
   ]
  },
  {
   "cell_type": "code",
   "execution_count": null,
   "id": "6523a152",
   "metadata": {},
   "outputs": [],
   "source": []
  },
  {
   "cell_type": "code",
   "execution_count": null,
   "id": "df51cb6e",
   "metadata": {
    "id": "df51cb6e"
   },
   "outputs": [],
   "source": [
    "# # import tensorflow.keras.layers as kl\n",
    "\n",
    "# # Créer un réseau à base de LSTM avec au minimum:\n",
    "# # Embedding\n",
    "# # Dropout\n",
    "# # LSTM\n",
    "# # Dropout\n",
    "# # Classifieur\n",
    "# model = tf.keras.models.Sequential()\n",
    "\n",
    "# model.add(kl.Embedding(NUMWORDS, 30, input_length = MAXLEN))\n",
    "# model.add(kl.Dropout(0.2))\n",
    "# model.add(kl.Bidirectional(kl.LSTM(64)))\n",
    "# model.add(kl.Dropout(0.2))\n",
    "# model.add(kl.Dense(cat_vocab+1, activation=\"softmax\"))\n",
    "\n",
    "# # Compiler le modèle \n",
    "\n",
    "# model.compile(loss=\"sparse_categorical_crossentropy\", \n",
    "#               optimizer=\"adam\", \n",
    "#               metrics=['accuracy'])\n",
    "\n",
    "# # Afficher le summary du modèle\n",
    "\n",
    "# model.summary()"
   ]
  },
  {
   "cell_type": "code",
   "execution_count": null,
   "id": "8d8c373f",
   "metadata": {
    "id": "8d8c373f"
   },
   "outputs": [],
   "source": [
    "# # Fitter le modèle\n",
    "# model.fit( X_train_seq, Y_train_id, batch_size=128, epochs = 5)"
   ]
  },
  {
   "cell_type": "code",
   "execution_count": null,
   "id": "ae62b06d",
   "metadata": {
    "id": "ae62b06d"
   },
   "outputs": [],
   "source": [
    "# # Evaluer le modèle\n",
    "# model.evaluate(X_test_seq, Y_test_id)"
   ]
  }
 ],
 "metadata": {
  "colab": {
   "provenance": []
  },
  "kernelspec": {
   "display_name": "Python 3 (ipykernel)",
   "language": "python",
   "name": "python3"
  },
  "language_info": {
   "codemirror_mode": {
    "name": "ipython",
    "version": 3
   },
   "file_extension": ".py",
   "mimetype": "text/x-python",
   "name": "python",
   "nbconvert_exporter": "python",
   "pygments_lexer": "ipython3",
   "version": "3.9.12"
  },
  "widgets": {
   "application/vnd.jupyter.widget-state+json": {
    "001b94ed78d246efbcdee2862015b245": {
     "model_module": "@jupyter-widgets/controls",
     "model_module_version": "1.5.0",
     "model_name": "DescriptionStyleModel",
     "state": {
      "_model_module": "@jupyter-widgets/controls",
      "_model_module_version": "1.5.0",
      "_model_name": "DescriptionStyleModel",
      "_view_count": null,
      "_view_module": "@jupyter-widgets/base",
      "_view_module_version": "1.2.0",
      "_view_name": "StyleView",
      "description_width": ""
     }
    },
    "031c8bb6dfab4ddaa2c43cb7420450f3": {
     "model_module": "@jupyter-widgets/controls",
     "model_module_version": "1.5.0",
     "model_name": "HTMLModel",
     "state": {
      "_dom_classes": [],
      "_model_module": "@jupyter-widgets/controls",
      "_model_module_version": "1.5.0",
      "_model_name": "HTMLModel",
      "_view_count": null,
      "_view_module": "@jupyter-widgets/controls",
      "_view_module_version": "1.5.0",
      "_view_name": "HTMLView",
      "description": "",
      "description_tooltip": null,
      "layout": "IPY_MODEL_451e0f3c662b4e828cdba25475c4d8f8",
      "placeholder": "​",
      "style": "IPY_MODEL_001b94ed78d246efbcdee2862015b245",
      "value": "Extracting data files: 100%"
     }
    },
    "07a95fdd27f241cc81b57c512b6ae4b4": {
     "model_module": "@jupyter-widgets/base",
     "model_module_version": "1.2.0",
     "model_name": "LayoutModel",
     "state": {
      "_model_module": "@jupyter-widgets/base",
      "_model_module_version": "1.2.0",
      "_model_name": "LayoutModel",
      "_view_count": null,
      "_view_module": "@jupyter-widgets/base",
      "_view_module_version": "1.2.0",
      "_view_name": "LayoutView",
      "align_content": null,
      "align_items": null,
      "align_self": null,
      "border": null,
      "bottom": null,
      "display": null,
      "flex": null,
      "flex_flow": null,
      "grid_area": null,
      "grid_auto_columns": null,
      "grid_auto_flow": null,
      "grid_auto_rows": null,
      "grid_column": null,
      "grid_gap": null,
      "grid_row": null,
      "grid_template_areas": null,
      "grid_template_columns": null,
      "grid_template_rows": null,
      "height": null,
      "justify_content": null,
      "justify_items": null,
      "left": null,
      "margin": null,
      "max_height": null,
      "max_width": null,
      "min_height": null,
      "min_width": null,
      "object_fit": null,
      "object_position": null,
      "order": null,
      "overflow": null,
      "overflow_x": null,
      "overflow_y": null,
      "padding": null,
      "right": null,
      "top": null,
      "visibility": null,
      "width": "20px"
     }
    },
    "07df3c5840ee4a91af4fb895ab62abc1": {
     "model_module": "@jupyter-widgets/controls",
     "model_module_version": "1.5.0",
     "model_name": "DescriptionStyleModel",
     "state": {
      "_model_module": "@jupyter-widgets/controls",
      "_model_module_version": "1.5.0",
      "_model_name": "DescriptionStyleModel",
      "_view_count": null,
      "_view_module": "@jupyter-widgets/base",
      "_view_module_version": "1.2.0",
      "_view_name": "StyleView",
      "description_width": ""
     }
    },
    "081e9ecb3cf342d5aa00ae1432a2c1dc": {
     "model_module": "@jupyter-widgets/controls",
     "model_module_version": "1.5.0",
     "model_name": "HTMLModel",
     "state": {
      "_dom_classes": [],
      "_model_module": "@jupyter-widgets/controls",
      "_model_module_version": "1.5.0",
      "_model_name": "HTMLModel",
      "_view_count": null,
      "_view_module": "@jupyter-widgets/controls",
      "_view_module_version": "1.5.0",
      "_view_name": "HTMLView",
      "description": "",
      "description_tooltip": null,
      "layout": "IPY_MODEL_f353b71b8fc8429d97a2f3c476c43ec8",
      "placeholder": "​",
      "style": "IPY_MODEL_f4e9ec0555124537bd0359b262a09b3c",
      "value": "Generating test split: "
     }
    },
    "091fcbec0e184a6690e017c8fc319c42": {
     "model_module": "@jupyter-widgets/controls",
     "model_module_version": "1.5.0",
     "model_name": "HBoxModel",
     "state": {
      "_dom_classes": [],
      "_model_module": "@jupyter-widgets/controls",
      "_model_module_version": "1.5.0",
      "_model_name": "HBoxModel",
      "_view_count": null,
      "_view_module": "@jupyter-widgets/controls",
      "_view_module_version": "1.5.0",
      "_view_name": "HBoxView",
      "box_style": "",
      "children": [
       "IPY_MODEL_3561fb3ca2e446cc8e1fb1bf9a00f6ac",
       "IPY_MODEL_2ccc5e7e8f594f6e90869204d35d8093",
       "IPY_MODEL_6737e1dc58c5409186fd4ff95325552a"
      ],
      "layout": "IPY_MODEL_cf771d85cf5749c0b27721aeb80aaea4"
     }
    },
    "0f07aff1b09d413ebf0cef2cb603b06e": {
     "model_module": "@jupyter-widgets/controls",
     "model_module_version": "1.5.0",
     "model_name": "DescriptionStyleModel",
     "state": {
      "_model_module": "@jupyter-widgets/controls",
      "_model_module_version": "1.5.0",
      "_model_name": "DescriptionStyleModel",
      "_view_count": null,
      "_view_module": "@jupyter-widgets/base",
      "_view_module_version": "1.2.0",
      "_view_name": "StyleView",
      "description_width": ""
     }
    },
    "18cfb0236a4c46bb84db9dc2e0bc6d0f": {
     "model_module": "@jupyter-widgets/controls",
     "model_module_version": "1.5.0",
     "model_name": "HTMLModel",
     "state": {
      "_dom_classes": [],
      "_model_module": "@jupyter-widgets/controls",
      "_model_module_version": "1.5.0",
      "_model_name": "HTMLModel",
      "_view_count": null,
      "_view_module": "@jupyter-widgets/controls",
      "_view_module_version": "1.5.0",
      "_view_name": "HTMLView",
      "description": "",
      "description_tooltip": null,
      "layout": "IPY_MODEL_8b0d485a1b984f57b6416ba40ee3fe82",
      "placeholder": "​",
      "style": "IPY_MODEL_c0a2f328e9b24f9dbc6ce4a85682bc37",
      "value": " 8305/0 [00:19&lt;00:00, 6367.67 examples/s]"
     }
    },
    "1c8d589fba034397bd3fcac0be3b3ecd": {
     "model_module": "@jupyter-widgets/base",
     "model_module_version": "1.2.0",
     "model_name": "LayoutModel",
     "state": {
      "_model_module": "@jupyter-widgets/base",
      "_model_module_version": "1.2.0",
      "_model_name": "LayoutModel",
      "_view_count": null,
      "_view_module": "@jupyter-widgets/base",
      "_view_module_version": "1.2.0",
      "_view_name": "LayoutView",
      "align_content": null,
      "align_items": null,
      "align_self": null,
      "border": null,
      "bottom": null,
      "display": null,
      "flex": null,
      "flex_flow": null,
      "grid_area": null,
      "grid_auto_columns": null,
      "grid_auto_flow": null,
      "grid_auto_rows": null,
      "grid_column": null,
      "grid_gap": null,
      "grid_row": null,
      "grid_template_areas": null,
      "grid_template_columns": null,
      "grid_template_rows": null,
      "height": null,
      "justify_content": null,
      "justify_items": null,
      "left": null,
      "margin": null,
      "max_height": null,
      "max_width": null,
      "min_height": null,
      "min_width": null,
      "object_fit": null,
      "object_position": null,
      "order": null,
      "overflow": null,
      "overflow_x": null,
      "overflow_y": null,
      "padding": null,
      "right": null,
      "top": null,
      "visibility": null,
      "width": null
     }
    },
    "1f2108e55b144fd8af3dd7d1848e321e": {
     "model_module": "@jupyter-widgets/controls",
     "model_module_version": "1.5.0",
     "model_name": "HTMLModel",
     "state": {
      "_dom_classes": [],
      "_model_module": "@jupyter-widgets/controls",
      "_model_module_version": "1.5.0",
      "_model_name": "HTMLModel",
      "_view_count": null,
      "_view_module": "@jupyter-widgets/controls",
      "_view_module_version": "1.5.0",
      "_view_name": "HTMLView",
      "description": "",
      "description_tooltip": null,
      "layout": "IPY_MODEL_ae7614cb8e6e4378bfa5f0e361e98fca",
      "placeholder": "​",
      "style": "IPY_MODEL_25d642d3ca654b6889cdb4585937a49a",
      "value": " 3/3 [00:00&lt;00:00, 107.22it/s]"
     }
    },
    "2068f99de83f458e8c1d8fa238a1f884": {
     "model_module": "@jupyter-widgets/controls",
     "model_module_version": "1.5.0",
     "model_name": "HTMLModel",
     "state": {
      "_dom_classes": [],
      "_model_module": "@jupyter-widgets/controls",
      "_model_module_version": "1.5.0",
      "_model_name": "HTMLModel",
      "_view_count": null,
      "_view_module": "@jupyter-widgets/controls",
      "_view_module_version": "1.5.0",
      "_view_name": "HTMLView",
      "description": "",
      "description_tooltip": null,
      "layout": "IPY_MODEL_abafc3f9d561465cb785e81b63a9a80f",
      "placeholder": "​",
      "style": "IPY_MODEL_9fdbd241773a462ea078fb9a07834ddc",
      "value": " 3/3 [00:00&lt;00:00, 116.68it/s]"
     }
    },
    "247fe5560b614edf8e16830e46ab092a": {
     "model_module": "@jupyter-widgets/controls",
     "model_module_version": "1.5.0",
     "model_name": "ProgressStyleModel",
     "state": {
      "_model_module": "@jupyter-widgets/controls",
      "_model_module_version": "1.5.0",
      "_model_name": "ProgressStyleModel",
      "_view_count": null,
      "_view_module": "@jupyter-widgets/base",
      "_view_module_version": "1.2.0",
      "_view_name": "StyleView",
      "bar_color": null,
      "description_width": ""
     }
    },
    "25d642d3ca654b6889cdb4585937a49a": {
     "model_module": "@jupyter-widgets/controls",
     "model_module_version": "1.5.0",
     "model_name": "DescriptionStyleModel",
     "state": {
      "_model_module": "@jupyter-widgets/controls",
      "_model_module_version": "1.5.0",
      "_model_name": "DescriptionStyleModel",
      "_view_count": null,
      "_view_module": "@jupyter-widgets/base",
      "_view_module_version": "1.2.0",
      "_view_name": "StyleView",
      "description_width": ""
     }
    },
    "268fee8d07764130a6a3ff5b8663ac19": {
     "model_module": "@jupyter-widgets/base",
     "model_module_version": "1.2.0",
     "model_name": "LayoutModel",
     "state": {
      "_model_module": "@jupyter-widgets/base",
      "_model_module_version": "1.2.0",
      "_model_name": "LayoutModel",
      "_view_count": null,
      "_view_module": "@jupyter-widgets/base",
      "_view_module_version": "1.2.0",
      "_view_name": "LayoutView",
      "align_content": null,
      "align_items": null,
      "align_self": null,
      "border": null,
      "bottom": null,
      "display": null,
      "flex": null,
      "flex_flow": null,
      "grid_area": null,
      "grid_auto_columns": null,
      "grid_auto_flow": null,
      "grid_auto_rows": null,
      "grid_column": null,
      "grid_gap": null,
      "grid_row": null,
      "grid_template_areas": null,
      "grid_template_columns": null,
      "grid_template_rows": null,
      "height": null,
      "justify_content": null,
      "justify_items": null,
      "left": null,
      "margin": null,
      "max_height": null,
      "max_width": null,
      "min_height": null,
      "min_width": null,
      "object_fit": null,
      "object_position": null,
      "order": null,
      "overflow": null,
      "overflow_x": null,
      "overflow_y": null,
      "padding": null,
      "right": null,
      "top": null,
      "visibility": null,
      "width": null
     }
    },
    "285c7a9ae7d749f9aae79118b5747497": {
     "model_module": "@jupyter-widgets/controls",
     "model_module_version": "1.5.0",
     "model_name": "FloatProgressModel",
     "state": {
      "_dom_classes": [],
      "_model_module": "@jupyter-widgets/controls",
      "_model_module_version": "1.5.0",
      "_model_name": "FloatProgressModel",
      "_view_count": null,
      "_view_module": "@jupyter-widgets/controls",
      "_view_module_version": "1.5.0",
      "_view_name": "ProgressView",
      "bar_style": "success",
      "description": "",
      "description_tooltip": null,
      "layout": "IPY_MODEL_1c8d589fba034397bd3fcac0be3b3ecd",
      "max": 3,
      "min": 0,
      "orientation": "horizontal",
      "style": "IPY_MODEL_ee0c156906f54b3cb08f7a0aae0ab875",
      "value": 3
     }
    },
    "2a92c4102b9848c381b6992a4e0135fb": {
     "model_module": "@jupyter-widgets/controls",
     "model_module_version": "1.5.0",
     "model_name": "DescriptionStyleModel",
     "state": {
      "_model_module": "@jupyter-widgets/controls",
      "_model_module_version": "1.5.0",
      "_model_name": "DescriptionStyleModel",
      "_view_count": null,
      "_view_module": "@jupyter-widgets/base",
      "_view_module_version": "1.2.0",
      "_view_name": "StyleView",
      "description_width": ""
     }
    },
    "2ccc5e7e8f594f6e90869204d35d8093": {
     "model_module": "@jupyter-widgets/controls",
     "model_module_version": "1.5.0",
     "model_name": "FloatProgressModel",
     "state": {
      "_dom_classes": [],
      "_model_module": "@jupyter-widgets/controls",
      "_model_module_version": "1.5.0",
      "_model_name": "FloatProgressModel",
      "_view_count": null,
      "_view_module": "@jupyter-widgets/controls",
      "_view_module_version": "1.5.0",
      "_view_name": "ProgressView",
      "bar_style": "success",
      "description": "",
      "description_tooltip": null,
      "layout": "IPY_MODEL_cc9269789ea64326911666c3639cdb26",
      "max": 3,
      "min": 0,
      "orientation": "horizontal",
      "style": "IPY_MODEL_7d96ebb9c2074f398e13bc6996d8c32d",
      "value": 3
     }
    },
    "2f1979b1ec6a4e83b0257a51ec767e60": {
     "model_module": "@jupyter-widgets/controls",
     "model_module_version": "1.5.0",
     "model_name": "HBoxModel",
     "state": {
      "_dom_classes": [],
      "_model_module": "@jupyter-widgets/controls",
      "_model_module_version": "1.5.0",
      "_model_name": "HBoxModel",
      "_view_count": null,
      "_view_module": "@jupyter-widgets/controls",
      "_view_module_version": "1.5.0",
      "_view_name": "HBoxView",
      "box_style": "",
      "children": [
       "IPY_MODEL_f949fa2d62a040d9be9bd9899cc15ce7",
       "IPY_MODEL_cf5b44fe086145c784713a30fa122dbb",
       "IPY_MODEL_1f2108e55b144fd8af3dd7d1848e321e"
      ],
      "layout": "IPY_MODEL_a1082e4f7d564e8ab0ffd2111a67b489"
     }
    },
    "3561fb3ca2e446cc8e1fb1bf9a00f6ac": {
     "model_module": "@jupyter-widgets/controls",
     "model_module_version": "1.5.0",
     "model_name": "HTMLModel",
     "state": {
      "_dom_classes": [],
      "_model_module": "@jupyter-widgets/controls",
      "_model_module_version": "1.5.0",
      "_model_name": "HTMLModel",
      "_view_count": null,
      "_view_module": "@jupyter-widgets/controls",
      "_view_module_version": "1.5.0",
      "_view_name": "HTMLView",
      "description": "",
      "description_tooltip": null,
      "layout": "IPY_MODEL_c237d5aee4494cc59b28fb14782dcc93",
      "placeholder": "​",
      "style": "IPY_MODEL_4036b7f56893411fa1e12b2ae4077332",
      "value": "100%"
     }
    },
    "3a862bce28594526bb0ef29cd748f39c": {
     "model_module": "@jupyter-widgets/controls",
     "model_module_version": "1.5.0",
     "model_name": "HTMLModel",
     "state": {
      "_dom_classes": [],
      "_model_module": "@jupyter-widgets/controls",
      "_model_module_version": "1.5.0",
      "_model_name": "HTMLModel",
      "_view_count": null,
      "_view_module": "@jupyter-widgets/controls",
      "_view_module_version": "1.5.0",
      "_view_name": "HTMLView",
      "description": "",
      "description_tooltip": null,
      "layout": "IPY_MODEL_5cc653c8c7814f50a78f2db3de74b3ae",
      "placeholder": "​",
      "style": "IPY_MODEL_f69e017641d1411fa242cd0ec7e4cd83",
      "value": "Generating train split: "
     }
    },
    "3fc2d247f92647899d5136829edf85f3": {
     "model_module": "@jupyter-widgets/controls",
     "model_module_version": "1.5.0",
     "model_name": "DescriptionStyleModel",
     "state": {
      "_model_module": "@jupyter-widgets/controls",
      "_model_module_version": "1.5.0",
      "_model_name": "DescriptionStyleModel",
      "_view_count": null,
      "_view_module": "@jupyter-widgets/base",
      "_view_module_version": "1.2.0",
      "_view_name": "StyleView",
      "description_width": ""
     }
    },
    "4036b7f56893411fa1e12b2ae4077332": {
     "model_module": "@jupyter-widgets/controls",
     "model_module_version": "1.5.0",
     "model_name": "DescriptionStyleModel",
     "state": {
      "_model_module": "@jupyter-widgets/controls",
      "_model_module_version": "1.5.0",
      "_model_name": "DescriptionStyleModel",
      "_view_count": null,
      "_view_module": "@jupyter-widgets/base",
      "_view_module_version": "1.2.0",
      "_view_name": "StyleView",
      "description_width": ""
     }
    },
    "43f7beb4f0d544baa27660958bc7153d": {
     "model_module": "@jupyter-widgets/controls",
     "model_module_version": "1.5.0",
     "model_name": "HTMLModel",
     "state": {
      "_dom_classes": [],
      "_model_module": "@jupyter-widgets/controls",
      "_model_module_version": "1.5.0",
      "_model_name": "HTMLModel",
      "_view_count": null,
      "_view_module": "@jupyter-widgets/controls",
      "_view_module_version": "1.5.0",
      "_view_name": "HTMLView",
      "description": "",
      "description_tooltip": null,
      "layout": "IPY_MODEL_e5fcc53938a2473b9cf31c25f887db10",
      "placeholder": "​",
      "style": "IPY_MODEL_95ea07f2f46f4e32827f68bcd0b1ed4f",
      "value": "Generating validation split: "
     }
    },
    "451e0f3c662b4e828cdba25475c4d8f8": {
     "model_module": "@jupyter-widgets/base",
     "model_module_version": "1.2.0",
     "model_name": "LayoutModel",
     "state": {
      "_model_module": "@jupyter-widgets/base",
      "_model_module_version": "1.2.0",
      "_model_name": "LayoutModel",
      "_view_count": null,
      "_view_module": "@jupyter-widgets/base",
      "_view_module_version": "1.2.0",
      "_view_name": "LayoutView",
      "align_content": null,
      "align_items": null,
      "align_self": null,
      "border": null,
      "bottom": null,
      "display": null,
      "flex": null,
      "flex_flow": null,
      "grid_area": null,
      "grid_auto_columns": null,
      "grid_auto_flow": null,
      "grid_auto_rows": null,
      "grid_column": null,
      "grid_gap": null,
      "grid_row": null,
      "grid_template_areas": null,
      "grid_template_columns": null,
      "grid_template_rows": null,
      "height": null,
      "justify_content": null,
      "justify_items": null,
      "left": null,
      "margin": null,
      "max_height": null,
      "max_width": null,
      "min_height": null,
      "min_width": null,
      "object_fit": null,
      "object_position": null,
      "order": null,
      "overflow": null,
      "overflow_x": null,
      "overflow_y": null,
      "padding": null,
      "right": null,
      "top": null,
      "visibility": null,
      "width": null
     }
    },
    "45e13793581846e1878e5b2c6eeb42d0": {
     "model_module": "@jupyter-widgets/base",
     "model_module_version": "1.2.0",
     "model_name": "LayoutModel",
     "state": {
      "_model_module": "@jupyter-widgets/base",
      "_model_module_version": "1.2.0",
      "_model_name": "LayoutModel",
      "_view_count": null,
      "_view_module": "@jupyter-widgets/base",
      "_view_module_version": "1.2.0",
      "_view_name": "LayoutView",
      "align_content": null,
      "align_items": null,
      "align_self": null,
      "border": null,
      "bottom": null,
      "display": null,
      "flex": null,
      "flex_flow": null,
      "grid_area": null,
      "grid_auto_columns": null,
      "grid_auto_flow": null,
      "grid_auto_rows": null,
      "grid_column": null,
      "grid_gap": null,
      "grid_row": null,
      "grid_template_areas": null,
      "grid_template_columns": null,
      "grid_template_rows": null,
      "height": null,
      "justify_content": null,
      "justify_items": null,
      "left": null,
      "margin": null,
      "max_height": null,
      "max_width": null,
      "min_height": null,
      "min_width": null,
      "object_fit": null,
      "object_position": null,
      "order": null,
      "overflow": null,
      "overflow_x": null,
      "overflow_y": null,
      "padding": null,
      "right": null,
      "top": null,
      "visibility": null,
      "width": null
     }
    },
    "46ea4b7599cb4e968baf5a5409f0f8d1": {
     "model_module": "@jupyter-widgets/base",
     "model_module_version": "1.2.0",
     "model_name": "LayoutModel",
     "state": {
      "_model_module": "@jupyter-widgets/base",
      "_model_module_version": "1.2.0",
      "_model_name": "LayoutModel",
      "_view_count": null,
      "_view_module": "@jupyter-widgets/base",
      "_view_module_version": "1.2.0",
      "_view_name": "LayoutView",
      "align_content": null,
      "align_items": null,
      "align_self": null,
      "border": null,
      "bottom": null,
      "display": null,
      "flex": null,
      "flex_flow": null,
      "grid_area": null,
      "grid_auto_columns": null,
      "grid_auto_flow": null,
      "grid_auto_rows": null,
      "grid_column": null,
      "grid_gap": null,
      "grid_row": null,
      "grid_template_areas": null,
      "grid_template_columns": null,
      "grid_template_rows": null,
      "height": null,
      "justify_content": null,
      "justify_items": null,
      "left": null,
      "margin": null,
      "max_height": null,
      "max_width": null,
      "min_height": null,
      "min_width": null,
      "object_fit": null,
      "object_position": null,
      "order": null,
      "overflow": null,
      "overflow_x": null,
      "overflow_y": null,
      "padding": null,
      "right": null,
      "top": null,
      "visibility": null,
      "width": null
     }
    },
    "52095bbc664b445c86d23dade70469bf": {
     "model_module": "@jupyter-widgets/base",
     "model_module_version": "1.2.0",
     "model_name": "LayoutModel",
     "state": {
      "_model_module": "@jupyter-widgets/base",
      "_model_module_version": "1.2.0",
      "_model_name": "LayoutModel",
      "_view_count": null,
      "_view_module": "@jupyter-widgets/base",
      "_view_module_version": "1.2.0",
      "_view_name": "LayoutView",
      "align_content": null,
      "align_items": null,
      "align_self": null,
      "border": null,
      "bottom": null,
      "display": null,
      "flex": null,
      "flex_flow": null,
      "grid_area": null,
      "grid_auto_columns": null,
      "grid_auto_flow": null,
      "grid_auto_rows": null,
      "grid_column": null,
      "grid_gap": null,
      "grid_row": null,
      "grid_template_areas": null,
      "grid_template_columns": null,
      "grid_template_rows": null,
      "height": null,
      "justify_content": null,
      "justify_items": null,
      "left": null,
      "margin": null,
      "max_height": null,
      "max_width": null,
      "min_height": null,
      "min_width": null,
      "object_fit": null,
      "object_position": null,
      "order": null,
      "overflow": null,
      "overflow_x": null,
      "overflow_y": null,
      "padding": null,
      "right": null,
      "top": null,
      "visibility": null,
      "width": null
     }
    },
    "5cc653c8c7814f50a78f2db3de74b3ae": {
     "model_module": "@jupyter-widgets/base",
     "model_module_version": "1.2.0",
     "model_name": "LayoutModel",
     "state": {
      "_model_module": "@jupyter-widgets/base",
      "_model_module_version": "1.2.0",
      "_model_name": "LayoutModel",
      "_view_count": null,
      "_view_module": "@jupyter-widgets/base",
      "_view_module_version": "1.2.0",
      "_view_name": "LayoutView",
      "align_content": null,
      "align_items": null,
      "align_self": null,
      "border": null,
      "bottom": null,
      "display": null,
      "flex": null,
      "flex_flow": null,
      "grid_area": null,
      "grid_auto_columns": null,
      "grid_auto_flow": null,
      "grid_auto_rows": null,
      "grid_column": null,
      "grid_gap": null,
      "grid_row": null,
      "grid_template_areas": null,
      "grid_template_columns": null,
      "grid_template_rows": null,
      "height": null,
      "justify_content": null,
      "justify_items": null,
      "left": null,
      "margin": null,
      "max_height": null,
      "max_width": null,
      "min_height": null,
      "min_width": null,
      "object_fit": null,
      "object_position": null,
      "order": null,
      "overflow": null,
      "overflow_x": null,
      "overflow_y": null,
      "padding": null,
      "right": null,
      "top": null,
      "visibility": null,
      "width": null
     }
    },
    "5f6af55bc8884843afe09a45d0c3a07e": {
     "model_module": "@jupyter-widgets/controls",
     "model_module_version": "1.5.0",
     "model_name": "DescriptionStyleModel",
     "state": {
      "_model_module": "@jupyter-widgets/controls",
      "_model_module_version": "1.5.0",
      "_model_name": "DescriptionStyleModel",
      "_view_count": null,
      "_view_module": "@jupyter-widgets/base",
      "_view_module_version": "1.2.0",
      "_view_name": "StyleView",
      "description_width": ""
     }
    },
    "6737e1dc58c5409186fd4ff95325552a": {
     "model_module": "@jupyter-widgets/controls",
     "model_module_version": "1.5.0",
     "model_name": "HTMLModel",
     "state": {
      "_dom_classes": [],
      "_model_module": "@jupyter-widgets/controls",
      "_model_module_version": "1.5.0",
      "_model_name": "HTMLModel",
      "_view_count": null,
      "_view_module": "@jupyter-widgets/controls",
      "_view_module_version": "1.5.0",
      "_view_name": "HTMLView",
      "description": "",
      "description_tooltip": null,
      "layout": "IPY_MODEL_d972444520b24d9e9b54e764f09a64cb",
      "placeholder": "​",
      "style": "IPY_MODEL_67f87ee6ce66476488cfca03be8bc933",
      "value": " 3/3 [00:00&lt;00:00, 75.31it/s]"
     }
    },
    "67f87ee6ce66476488cfca03be8bc933": {
     "model_module": "@jupyter-widgets/controls",
     "model_module_version": "1.5.0",
     "model_name": "DescriptionStyleModel",
     "state": {
      "_model_module": "@jupyter-widgets/controls",
      "_model_module_version": "1.5.0",
      "_model_name": "DescriptionStyleModel",
      "_view_count": null,
      "_view_module": "@jupyter-widgets/base",
      "_view_module_version": "1.2.0",
      "_view_name": "StyleView",
      "description_width": ""
     }
    },
    "6fd193296492438a8981ea7114f7b129": {
     "model_module": "@jupyter-widgets/base",
     "model_module_version": "1.2.0",
     "model_name": "LayoutModel",
     "state": {
      "_model_module": "@jupyter-widgets/base",
      "_model_module_version": "1.2.0",
      "_model_name": "LayoutModel",
      "_view_count": null,
      "_view_module": "@jupyter-widgets/base",
      "_view_module_version": "1.2.0",
      "_view_name": "LayoutView",
      "align_content": null,
      "align_items": null,
      "align_self": null,
      "border": null,
      "bottom": null,
      "display": null,
      "flex": null,
      "flex_flow": null,
      "grid_area": null,
      "grid_auto_columns": null,
      "grid_auto_flow": null,
      "grid_auto_rows": null,
      "grid_column": null,
      "grid_gap": null,
      "grid_row": null,
      "grid_template_areas": null,
      "grid_template_columns": null,
      "grid_template_rows": null,
      "height": null,
      "justify_content": null,
      "justify_items": null,
      "left": null,
      "margin": null,
      "max_height": null,
      "max_width": null,
      "min_height": null,
      "min_width": null,
      "object_fit": null,
      "object_position": null,
      "order": null,
      "overflow": null,
      "overflow_x": null,
      "overflow_y": null,
      "padding": null,
      "right": null,
      "top": null,
      "visibility": null,
      "width": "20px"
     }
    },
    "721a42f917214c9f8bd120e9b53e177b": {
     "model_module": "@jupyter-widgets/controls",
     "model_module_version": "1.5.0",
     "model_name": "HBoxModel",
     "state": {
      "_dom_classes": [],
      "_model_module": "@jupyter-widgets/controls",
      "_model_module_version": "1.5.0",
      "_model_name": "HBoxModel",
      "_view_count": null,
      "_view_module": "@jupyter-widgets/controls",
      "_view_module_version": "1.5.0",
      "_view_name": "HBoxView",
      "box_style": "",
      "children": [
       "IPY_MODEL_031c8bb6dfab4ddaa2c43cb7420450f3",
       "IPY_MODEL_285c7a9ae7d749f9aae79118b5747497",
       "IPY_MODEL_2068f99de83f458e8c1d8fa238a1f884"
      ],
      "layout": "IPY_MODEL_52095bbc664b445c86d23dade70469bf"
     }
    },
    "7422ce33f30844e391e3008dc5de8cb9": {
     "model_module": "@jupyter-widgets/base",
     "model_module_version": "1.2.0",
     "model_name": "LayoutModel",
     "state": {
      "_model_module": "@jupyter-widgets/base",
      "_model_module_version": "1.2.0",
      "_model_name": "LayoutModel",
      "_view_count": null,
      "_view_module": "@jupyter-widgets/base",
      "_view_module_version": "1.2.0",
      "_view_name": "LayoutView",
      "align_content": null,
      "align_items": null,
      "align_self": null,
      "border": null,
      "bottom": null,
      "display": null,
      "flex": null,
      "flex_flow": null,
      "grid_area": null,
      "grid_auto_columns": null,
      "grid_auto_flow": null,
      "grid_auto_rows": null,
      "grid_column": null,
      "grid_gap": null,
      "grid_row": null,
      "grid_template_areas": null,
      "grid_template_columns": null,
      "grid_template_rows": null,
      "height": null,
      "justify_content": null,
      "justify_items": null,
      "left": null,
      "margin": null,
      "max_height": null,
      "max_width": null,
      "min_height": null,
      "min_width": null,
      "object_fit": null,
      "object_position": null,
      "order": null,
      "overflow": null,
      "overflow_x": null,
      "overflow_y": null,
      "padding": null,
      "right": null,
      "top": null,
      "visibility": "hidden",
      "width": null
     }
    },
    "7d96ebb9c2074f398e13bc6996d8c32d": {
     "model_module": "@jupyter-widgets/controls",
     "model_module_version": "1.5.0",
     "model_name": "ProgressStyleModel",
     "state": {
      "_model_module": "@jupyter-widgets/controls",
      "_model_module_version": "1.5.0",
      "_model_name": "ProgressStyleModel",
      "_view_count": null,
      "_view_module": "@jupyter-widgets/base",
      "_view_module_version": "1.2.0",
      "_view_name": "StyleView",
      "bar_color": null,
      "description_width": ""
     }
    },
    "80c355518f5c48a9a3110fa8fde15b33": {
     "model_module": "@jupyter-widgets/controls",
     "model_module_version": "1.5.0",
     "model_name": "FloatProgressModel",
     "state": {
      "_dom_classes": [],
      "_model_module": "@jupyter-widgets/controls",
      "_model_module_version": "1.5.0",
      "_model_name": "FloatProgressModel",
      "_view_count": null,
      "_view_module": "@jupyter-widgets/controls",
      "_view_module_version": "1.5.0",
      "_view_name": "ProgressView",
      "bar_style": "info",
      "description": "",
      "description_tooltip": null,
      "layout": "IPY_MODEL_07a95fdd27f241cc81b57c512b6ae4b4",
      "max": 1,
      "min": 0,
      "orientation": "horizontal",
      "style": "IPY_MODEL_b765eae23aa84ad3835ac7a4a459a331",
      "value": 1
     }
    },
    "8415c9bea2224f6d88535b27d3c45400": {
     "model_module": "@jupyter-widgets/controls",
     "model_module_version": "1.5.0",
     "model_name": "HBoxModel",
     "state": {
      "_dom_classes": [],
      "_model_module": "@jupyter-widgets/controls",
      "_model_module_version": "1.5.0",
      "_model_name": "HBoxModel",
      "_view_count": null,
      "_view_module": "@jupyter-widgets/controls",
      "_view_module_version": "1.5.0",
      "_view_name": "HBoxView",
      "box_style": "",
      "children": [
       "IPY_MODEL_43f7beb4f0d544baa27660958bc7153d",
       "IPY_MODEL_80c355518f5c48a9a3110fa8fde15b33",
       "IPY_MODEL_b0ebeb105ec24b3392b6e88cfa36a116"
      ],
      "layout": "IPY_MODEL_e25c15679d8943e9bedd92d418018778"
     }
    },
    "88b475d599784528af0fe1927afb6ce4": {
     "model_module": "@jupyter-widgets/controls",
     "model_module_version": "1.5.0",
     "model_name": "FloatProgressModel",
     "state": {
      "_dom_classes": [],
      "_model_module": "@jupyter-widgets/controls",
      "_model_module_version": "1.5.0",
      "_model_name": "FloatProgressModel",
      "_view_count": null,
      "_view_module": "@jupyter-widgets/controls",
      "_view_module_version": "1.5.0",
      "_view_name": "ProgressView",
      "bar_style": "success",
      "description": "",
      "description_tooltip": null,
      "layout": "IPY_MODEL_fca3f899db8646008a86261606b6f57b",
      "max": 3,
      "min": 0,
      "orientation": "horizontal",
      "style": "IPY_MODEL_f5916095293841319fd52d1c6957cbe7",
      "value": 3
     }
    },
    "8b0d485a1b984f57b6416ba40ee3fe82": {
     "model_module": "@jupyter-widgets/base",
     "model_module_version": "1.2.0",
     "model_name": "LayoutModel",
     "state": {
      "_model_module": "@jupyter-widgets/base",
      "_model_module_version": "1.2.0",
      "_model_name": "LayoutModel",
      "_view_count": null,
      "_view_module": "@jupyter-widgets/base",
      "_view_module_version": "1.2.0",
      "_view_name": "LayoutView",
      "align_content": null,
      "align_items": null,
      "align_self": null,
      "border": null,
      "bottom": null,
      "display": null,
      "flex": null,
      "flex_flow": null,
      "grid_area": null,
      "grid_auto_columns": null,
      "grid_auto_flow": null,
      "grid_auto_rows": null,
      "grid_column": null,
      "grid_gap": null,
      "grid_row": null,
      "grid_template_areas": null,
      "grid_template_columns": null,
      "grid_template_rows": null,
      "height": null,
      "justify_content": null,
      "justify_items": null,
      "left": null,
      "margin": null,
      "max_height": null,
      "max_width": null,
      "min_height": null,
      "min_width": null,
      "object_fit": null,
      "object_position": null,
      "order": null,
      "overflow": null,
      "overflow_x": null,
      "overflow_y": null,
      "padding": null,
      "right": null,
      "top": null,
      "visibility": null,
      "width": null
     }
    },
    "9515d9ff234d441eabe9f0e1c241dee8": {
     "model_module": "@jupyter-widgets/base",
     "model_module_version": "1.2.0",
     "model_name": "LayoutModel",
     "state": {
      "_model_module": "@jupyter-widgets/base",
      "_model_module_version": "1.2.0",
      "_model_name": "LayoutModel",
      "_view_count": null,
      "_view_module": "@jupyter-widgets/base",
      "_view_module_version": "1.2.0",
      "_view_name": "LayoutView",
      "align_content": null,
      "align_items": null,
      "align_self": null,
      "border": null,
      "bottom": null,
      "display": null,
      "flex": null,
      "flex_flow": null,
      "grid_area": null,
      "grid_auto_columns": null,
      "grid_auto_flow": null,
      "grid_auto_rows": null,
      "grid_column": null,
      "grid_gap": null,
      "grid_row": null,
      "grid_template_areas": null,
      "grid_template_columns": null,
      "grid_template_rows": null,
      "height": null,
      "justify_content": null,
      "justify_items": null,
      "left": null,
      "margin": null,
      "max_height": null,
      "max_width": null,
      "min_height": null,
      "min_width": null,
      "object_fit": null,
      "object_position": null,
      "order": null,
      "overflow": null,
      "overflow_x": null,
      "overflow_y": null,
      "padding": null,
      "right": null,
      "top": null,
      "visibility": null,
      "width": "20px"
     }
    },
    "95ea07f2f46f4e32827f68bcd0b1ed4f": {
     "model_module": "@jupyter-widgets/controls",
     "model_module_version": "1.5.0",
     "model_name": "DescriptionStyleModel",
     "state": {
      "_model_module": "@jupyter-widgets/controls",
      "_model_module_version": "1.5.0",
      "_model_name": "DescriptionStyleModel",
      "_view_count": null,
      "_view_module": "@jupyter-widgets/base",
      "_view_module_version": "1.2.0",
      "_view_name": "StyleView",
      "description_width": ""
     }
    },
    "96217d9b0b3d4aa9ac7c1f72daf8ea8d": {
     "model_module": "@jupyter-widgets/controls",
     "model_module_version": "1.5.0",
     "model_name": "ProgressStyleModel",
     "state": {
      "_model_module": "@jupyter-widgets/controls",
      "_model_module_version": "1.5.0",
      "_model_name": "ProgressStyleModel",
      "_view_count": null,
      "_view_module": "@jupyter-widgets/base",
      "_view_module_version": "1.2.0",
      "_view_name": "StyleView",
      "bar_color": null,
      "description_width": ""
     }
    },
    "97505942ca3f4334859071caeecefbeb": {
     "model_module": "@jupyter-widgets/controls",
     "model_module_version": "1.5.0",
     "model_name": "HTMLModel",
     "state": {
      "_dom_classes": [],
      "_model_module": "@jupyter-widgets/controls",
      "_model_module_version": "1.5.0",
      "_model_name": "HTMLModel",
      "_view_count": null,
      "_view_module": "@jupyter-widgets/controls",
      "_view_module_version": "1.5.0",
      "_view_name": "HTMLView",
      "description": "",
      "description_tooltip": null,
      "layout": "IPY_MODEL_c1b4ba874fa0450da83a99ae04898aff",
      "placeholder": "​",
      "style": "IPY_MODEL_3fc2d247f92647899d5136829edf85f3",
      "value": "100%"
     }
    },
    "9ea4c606fe52406b8320ea1852e6bfd6": {
     "model_module": "@jupyter-widgets/controls",
     "model_module_version": "1.5.0",
     "model_name": "ProgressStyleModel",
     "state": {
      "_model_module": "@jupyter-widgets/controls",
      "_model_module_version": "1.5.0",
      "_model_name": "ProgressStyleModel",
      "_view_count": null,
      "_view_module": "@jupyter-widgets/base",
      "_view_module_version": "1.2.0",
      "_view_name": "StyleView",
      "bar_color": null,
      "description_width": ""
     }
    },
    "9fdbd241773a462ea078fb9a07834ddc": {
     "model_module": "@jupyter-widgets/controls",
     "model_module_version": "1.5.0",
     "model_name": "DescriptionStyleModel",
     "state": {
      "_model_module": "@jupyter-widgets/controls",
      "_model_module_version": "1.5.0",
      "_model_name": "DescriptionStyleModel",
      "_view_count": null,
      "_view_module": "@jupyter-widgets/base",
      "_view_module_version": "1.2.0",
      "_view_name": "StyleView",
      "description_width": ""
     }
    },
    "a1082e4f7d564e8ab0ffd2111a67b489": {
     "model_module": "@jupyter-widgets/base",
     "model_module_version": "1.2.0",
     "model_name": "LayoutModel",
     "state": {
      "_model_module": "@jupyter-widgets/base",
      "_model_module_version": "1.2.0",
      "_model_name": "LayoutModel",
      "_view_count": null,
      "_view_module": "@jupyter-widgets/base",
      "_view_module_version": "1.2.0",
      "_view_name": "LayoutView",
      "align_content": null,
      "align_items": null,
      "align_self": null,
      "border": null,
      "bottom": null,
      "display": null,
      "flex": null,
      "flex_flow": null,
      "grid_area": null,
      "grid_auto_columns": null,
      "grid_auto_flow": null,
      "grid_auto_rows": null,
      "grid_column": null,
      "grid_gap": null,
      "grid_row": null,
      "grid_template_areas": null,
      "grid_template_columns": null,
      "grid_template_rows": null,
      "height": null,
      "justify_content": null,
      "justify_items": null,
      "left": null,
      "margin": null,
      "max_height": null,
      "max_width": null,
      "min_height": null,
      "min_width": null,
      "object_fit": null,
      "object_position": null,
      "order": null,
      "overflow": null,
      "overflow_x": null,
      "overflow_y": null,
      "padding": null,
      "right": null,
      "top": null,
      "visibility": null,
      "width": null
     }
    },
    "abafc3f9d561465cb785e81b63a9a80f": {
     "model_module": "@jupyter-widgets/base",
     "model_module_version": "1.2.0",
     "model_name": "LayoutModel",
     "state": {
      "_model_module": "@jupyter-widgets/base",
      "_model_module_version": "1.2.0",
      "_model_name": "LayoutModel",
      "_view_count": null,
      "_view_module": "@jupyter-widgets/base",
      "_view_module_version": "1.2.0",
      "_view_name": "LayoutView",
      "align_content": null,
      "align_items": null,
      "align_self": null,
      "border": null,
      "bottom": null,
      "display": null,
      "flex": null,
      "flex_flow": null,
      "grid_area": null,
      "grid_auto_columns": null,
      "grid_auto_flow": null,
      "grid_auto_rows": null,
      "grid_column": null,
      "grid_gap": null,
      "grid_row": null,
      "grid_template_areas": null,
      "grid_template_columns": null,
      "grid_template_rows": null,
      "height": null,
      "justify_content": null,
      "justify_items": null,
      "left": null,
      "margin": null,
      "max_height": null,
      "max_width": null,
      "min_height": null,
      "min_width": null,
      "object_fit": null,
      "object_position": null,
      "order": null,
      "overflow": null,
      "overflow_x": null,
      "overflow_y": null,
      "padding": null,
      "right": null,
      "top": null,
      "visibility": null,
      "width": null
     }
    },
    "ad848a43c4054bcebdbdb5fb4540790f": {
     "model_module": "@jupyter-widgets/controls",
     "model_module_version": "1.5.0",
     "model_name": "HBoxModel",
     "state": {
      "_dom_classes": [],
      "_model_module": "@jupyter-widgets/controls",
      "_model_module_version": "1.5.0",
      "_model_name": "HBoxModel",
      "_view_count": null,
      "_view_module": "@jupyter-widgets/controls",
      "_view_module_version": "1.5.0",
      "_view_name": "HBoxView",
      "box_style": "",
      "children": [
       "IPY_MODEL_081e9ecb3cf342d5aa00ae1432a2c1dc",
       "IPY_MODEL_b13cc30f3b6e410aa08105902f541255",
       "IPY_MODEL_f2b9c4df5c324661b0cfd436e1d571a2"
      ],
      "layout": "IPY_MODEL_cee2e17531db44ffa6037b077b3e44f9"
     }
    },
    "ae7614cb8e6e4378bfa5f0e361e98fca": {
     "model_module": "@jupyter-widgets/base",
     "model_module_version": "1.2.0",
     "model_name": "LayoutModel",
     "state": {
      "_model_module": "@jupyter-widgets/base",
      "_model_module_version": "1.2.0",
      "_model_name": "LayoutModel",
      "_view_count": null,
      "_view_module": "@jupyter-widgets/base",
      "_view_module_version": "1.2.0",
      "_view_name": "LayoutView",
      "align_content": null,
      "align_items": null,
      "align_self": null,
      "border": null,
      "bottom": null,
      "display": null,
      "flex": null,
      "flex_flow": null,
      "grid_area": null,
      "grid_auto_columns": null,
      "grid_auto_flow": null,
      "grid_auto_rows": null,
      "grid_column": null,
      "grid_gap": null,
      "grid_row": null,
      "grid_template_areas": null,
      "grid_template_columns": null,
      "grid_template_rows": null,
      "height": null,
      "justify_content": null,
      "justify_items": null,
      "left": null,
      "margin": null,
      "max_height": null,
      "max_width": null,
      "min_height": null,
      "min_width": null,
      "object_fit": null,
      "object_position": null,
      "order": null,
      "overflow": null,
      "overflow_x": null,
      "overflow_y": null,
      "padding": null,
      "right": null,
      "top": null,
      "visibility": null,
      "width": null
     }
    },
    "b0ebeb105ec24b3392b6e88cfa36a116": {
     "model_module": "@jupyter-widgets/controls",
     "model_module_version": "1.5.0",
     "model_name": "HTMLModel",
     "state": {
      "_dom_classes": [],
      "_model_module": "@jupyter-widgets/controls",
      "_model_module_version": "1.5.0",
      "_model_name": "HTMLModel",
      "_view_count": null,
      "_view_module": "@jupyter-widgets/controls",
      "_view_module_version": "1.5.0",
      "_view_name": "HTMLView",
      "description": "",
      "description_tooltip": null,
      "layout": "IPY_MODEL_268fee8d07764130a6a3ff5b8663ac19",
      "placeholder": "​",
      "style": "IPY_MODEL_5f6af55bc8884843afe09a45d0c3a07e",
      "value": " 2122/0 [00:17&lt;00:00, 5311.98 examples/s]"
     }
    },
    "b13cc30f3b6e410aa08105902f541255": {
     "model_module": "@jupyter-widgets/controls",
     "model_module_version": "1.5.0",
     "model_name": "FloatProgressModel",
     "state": {
      "_dom_classes": [],
      "_model_module": "@jupyter-widgets/controls",
      "_model_module_version": "1.5.0",
      "_model_name": "FloatProgressModel",
      "_view_count": null,
      "_view_module": "@jupyter-widgets/controls",
      "_view_module_version": "1.5.0",
      "_view_name": "ProgressView",
      "bar_style": "info",
      "description": "",
      "description_tooltip": null,
      "layout": "IPY_MODEL_6fd193296492438a8981ea7114f7b129",
      "max": 1,
      "min": 0,
      "orientation": "horizontal",
      "style": "IPY_MODEL_9ea4c606fe52406b8320ea1852e6bfd6",
      "value": 1
     }
    },
    "b379e218754443b280c3dab735bb3cb4": {
     "model_module": "@jupyter-widgets/controls",
     "model_module_version": "1.5.0",
     "model_name": "FloatProgressModel",
     "state": {
      "_dom_classes": [],
      "_model_module": "@jupyter-widgets/controls",
      "_model_module_version": "1.5.0",
      "_model_name": "FloatProgressModel",
      "_view_count": null,
      "_view_module": "@jupyter-widgets/controls",
      "_view_module_version": "1.5.0",
      "_view_name": "ProgressView",
      "bar_style": "info",
      "description": "",
      "description_tooltip": null,
      "layout": "IPY_MODEL_9515d9ff234d441eabe9f0e1c241dee8",
      "max": 1,
      "min": 0,
      "orientation": "horizontal",
      "style": "IPY_MODEL_247fe5560b614edf8e16830e46ab092a",
      "value": 1
     }
    },
    "b765eae23aa84ad3835ac7a4a459a331": {
     "model_module": "@jupyter-widgets/controls",
     "model_module_version": "1.5.0",
     "model_name": "ProgressStyleModel",
     "state": {
      "_model_module": "@jupyter-widgets/controls",
      "_model_module_version": "1.5.0",
      "_model_name": "ProgressStyleModel",
      "_view_count": null,
      "_view_module": "@jupyter-widgets/base",
      "_view_module_version": "1.2.0",
      "_view_name": "StyleView",
      "bar_color": null,
      "description_width": ""
     }
    },
    "c0a2f328e9b24f9dbc6ce4a85682bc37": {
     "model_module": "@jupyter-widgets/controls",
     "model_module_version": "1.5.0",
     "model_name": "DescriptionStyleModel",
     "state": {
      "_model_module": "@jupyter-widgets/controls",
      "_model_module_version": "1.5.0",
      "_model_name": "DescriptionStyleModel",
      "_view_count": null,
      "_view_module": "@jupyter-widgets/base",
      "_view_module_version": "1.2.0",
      "_view_name": "StyleView",
      "description_width": ""
     }
    },
    "c1b4ba874fa0450da83a99ae04898aff": {
     "model_module": "@jupyter-widgets/base",
     "model_module_version": "1.2.0",
     "model_name": "LayoutModel",
     "state": {
      "_model_module": "@jupyter-widgets/base",
      "_model_module_version": "1.2.0",
      "_model_name": "LayoutModel",
      "_view_count": null,
      "_view_module": "@jupyter-widgets/base",
      "_view_module_version": "1.2.0",
      "_view_name": "LayoutView",
      "align_content": null,
      "align_items": null,
      "align_self": null,
      "border": null,
      "bottom": null,
      "display": null,
      "flex": null,
      "flex_flow": null,
      "grid_area": null,
      "grid_auto_columns": null,
      "grid_auto_flow": null,
      "grid_auto_rows": null,
      "grid_column": null,
      "grid_gap": null,
      "grid_row": null,
      "grid_template_areas": null,
      "grid_template_columns": null,
      "grid_template_rows": null,
      "height": null,
      "justify_content": null,
      "justify_items": null,
      "left": null,
      "margin": null,
      "max_height": null,
      "max_width": null,
      "min_height": null,
      "min_width": null,
      "object_fit": null,
      "object_position": null,
      "order": null,
      "overflow": null,
      "overflow_x": null,
      "overflow_y": null,
      "padding": null,
      "right": null,
      "top": null,
      "visibility": null,
      "width": null
     }
    },
    "c237d5aee4494cc59b28fb14782dcc93": {
     "model_module": "@jupyter-widgets/base",
     "model_module_version": "1.2.0",
     "model_name": "LayoutModel",
     "state": {
      "_model_module": "@jupyter-widgets/base",
      "_model_module_version": "1.2.0",
      "_model_name": "LayoutModel",
      "_view_count": null,
      "_view_module": "@jupyter-widgets/base",
      "_view_module_version": "1.2.0",
      "_view_name": "LayoutView",
      "align_content": null,
      "align_items": null,
      "align_self": null,
      "border": null,
      "bottom": null,
      "display": null,
      "flex": null,
      "flex_flow": null,
      "grid_area": null,
      "grid_auto_columns": null,
      "grid_auto_flow": null,
      "grid_auto_rows": null,
      "grid_column": null,
      "grid_gap": null,
      "grid_row": null,
      "grid_template_areas": null,
      "grid_template_columns": null,
      "grid_template_rows": null,
      "height": null,
      "justify_content": null,
      "justify_items": null,
      "left": null,
      "margin": null,
      "max_height": null,
      "max_width": null,
      "min_height": null,
      "min_width": null,
      "object_fit": null,
      "object_position": null,
      "order": null,
      "overflow": null,
      "overflow_x": null,
      "overflow_y": null,
      "padding": null,
      "right": null,
      "top": null,
      "visibility": null,
      "width": null
     }
    },
    "c4833eb04e2e494997bc430c036f010d": {
     "model_module": "@jupyter-widgets/controls",
     "model_module_version": "1.5.0",
     "model_name": "HBoxModel",
     "state": {
      "_dom_classes": [],
      "_model_module": "@jupyter-widgets/controls",
      "_model_module_version": "1.5.0",
      "_model_name": "HBoxModel",
      "_view_count": null,
      "_view_module": "@jupyter-widgets/controls",
      "_view_module_version": "1.5.0",
      "_view_name": "HBoxView",
      "box_style": "",
      "children": [
       "IPY_MODEL_3a862bce28594526bb0ef29cd748f39c",
       "IPY_MODEL_b379e218754443b280c3dab735bb3cb4",
       "IPY_MODEL_18cfb0236a4c46bb84db9dc2e0bc6d0f"
      ],
      "layout": "IPY_MODEL_7422ce33f30844e391e3008dc5de8cb9"
     }
    },
    "cc9269789ea64326911666c3639cdb26": {
     "model_module": "@jupyter-widgets/base",
     "model_module_version": "1.2.0",
     "model_name": "LayoutModel",
     "state": {
      "_model_module": "@jupyter-widgets/base",
      "_model_module_version": "1.2.0",
      "_model_name": "LayoutModel",
      "_view_count": null,
      "_view_module": "@jupyter-widgets/base",
      "_view_module_version": "1.2.0",
      "_view_name": "LayoutView",
      "align_content": null,
      "align_items": null,
      "align_self": null,
      "border": null,
      "bottom": null,
      "display": null,
      "flex": null,
      "flex_flow": null,
      "grid_area": null,
      "grid_auto_columns": null,
      "grid_auto_flow": null,
      "grid_auto_rows": null,
      "grid_column": null,
      "grid_gap": null,
      "grid_row": null,
      "grid_template_areas": null,
      "grid_template_columns": null,
      "grid_template_rows": null,
      "height": null,
      "justify_content": null,
      "justify_items": null,
      "left": null,
      "margin": null,
      "max_height": null,
      "max_width": null,
      "min_height": null,
      "min_width": null,
      "object_fit": null,
      "object_position": null,
      "order": null,
      "overflow": null,
      "overflow_x": null,
      "overflow_y": null,
      "padding": null,
      "right": null,
      "top": null,
      "visibility": null,
      "width": null
     }
    },
    "cee2e17531db44ffa6037b077b3e44f9": {
     "model_module": "@jupyter-widgets/base",
     "model_module_version": "1.2.0",
     "model_name": "LayoutModel",
     "state": {
      "_model_module": "@jupyter-widgets/base",
      "_model_module_version": "1.2.0",
      "_model_name": "LayoutModel",
      "_view_count": null,
      "_view_module": "@jupyter-widgets/base",
      "_view_module_version": "1.2.0",
      "_view_name": "LayoutView",
      "align_content": null,
      "align_items": null,
      "align_self": null,
      "border": null,
      "bottom": null,
      "display": null,
      "flex": null,
      "flex_flow": null,
      "grid_area": null,
      "grid_auto_columns": null,
      "grid_auto_flow": null,
      "grid_auto_rows": null,
      "grid_column": null,
      "grid_gap": null,
      "grid_row": null,
      "grid_template_areas": null,
      "grid_template_columns": null,
      "grid_template_rows": null,
      "height": null,
      "justify_content": null,
      "justify_items": null,
      "left": null,
      "margin": null,
      "max_height": null,
      "max_width": null,
      "min_height": null,
      "min_width": null,
      "object_fit": null,
      "object_position": null,
      "order": null,
      "overflow": null,
      "overflow_x": null,
      "overflow_y": null,
      "padding": null,
      "right": null,
      "top": null,
      "visibility": "hidden",
      "width": null
     }
    },
    "cf5b44fe086145c784713a30fa122dbb": {
     "model_module": "@jupyter-widgets/controls",
     "model_module_version": "1.5.0",
     "model_name": "FloatProgressModel",
     "state": {
      "_dom_classes": [],
      "_model_module": "@jupyter-widgets/controls",
      "_model_module_version": "1.5.0",
      "_model_name": "FloatProgressModel",
      "_view_count": null,
      "_view_module": "@jupyter-widgets/controls",
      "_view_module_version": "1.5.0",
      "_view_name": "ProgressView",
      "bar_style": "success",
      "description": "",
      "description_tooltip": null,
      "layout": "IPY_MODEL_46ea4b7599cb4e968baf5a5409f0f8d1",
      "max": 3,
      "min": 0,
      "orientation": "horizontal",
      "style": "IPY_MODEL_96217d9b0b3d4aa9ac7c1f72daf8ea8d",
      "value": 3
     }
    },
    "cf771d85cf5749c0b27721aeb80aaea4": {
     "model_module": "@jupyter-widgets/base",
     "model_module_version": "1.2.0",
     "model_name": "LayoutModel",
     "state": {
      "_model_module": "@jupyter-widgets/base",
      "_model_module_version": "1.2.0",
      "_model_name": "LayoutModel",
      "_view_count": null,
      "_view_module": "@jupyter-widgets/base",
      "_view_module_version": "1.2.0",
      "_view_name": "LayoutView",
      "align_content": null,
      "align_items": null,
      "align_self": null,
      "border": null,
      "bottom": null,
      "display": null,
      "flex": null,
      "flex_flow": null,
      "grid_area": null,
      "grid_auto_columns": null,
      "grid_auto_flow": null,
      "grid_auto_rows": null,
      "grid_column": null,
      "grid_gap": null,
      "grid_row": null,
      "grid_template_areas": null,
      "grid_template_columns": null,
      "grid_template_rows": null,
      "height": null,
      "justify_content": null,
      "justify_items": null,
      "left": null,
      "margin": null,
      "max_height": null,
      "max_width": null,
      "min_height": null,
      "min_width": null,
      "object_fit": null,
      "object_position": null,
      "order": null,
      "overflow": null,
      "overflow_x": null,
      "overflow_y": null,
      "padding": null,
      "right": null,
      "top": null,
      "visibility": null,
      "width": null
     }
    },
    "d4cbed37612945d08d1fab4a11d3f61c": {
     "model_module": "@jupyter-widgets/controls",
     "model_module_version": "1.5.0",
     "model_name": "HTMLModel",
     "state": {
      "_dom_classes": [],
      "_model_module": "@jupyter-widgets/controls",
      "_model_module_version": "1.5.0",
      "_model_name": "HTMLModel",
      "_view_count": null,
      "_view_module": "@jupyter-widgets/controls",
      "_view_module_version": "1.5.0",
      "_view_name": "HTMLView",
      "description": "",
      "description_tooltip": null,
      "layout": "IPY_MODEL_dbeb753f2f0a4cea9672cb8ac1e4acaa",
      "placeholder": "​",
      "style": "IPY_MODEL_07df3c5840ee4a91af4fb895ab62abc1",
      "value": " 3/3 [00:00&lt;00:00, 79.73it/s]"
     }
    },
    "d972444520b24d9e9b54e764f09a64cb": {
     "model_module": "@jupyter-widgets/base",
     "model_module_version": "1.2.0",
     "model_name": "LayoutModel",
     "state": {
      "_model_module": "@jupyter-widgets/base",
      "_model_module_version": "1.2.0",
      "_model_name": "LayoutModel",
      "_view_count": null,
      "_view_module": "@jupyter-widgets/base",
      "_view_module_version": "1.2.0",
      "_view_name": "LayoutView",
      "align_content": null,
      "align_items": null,
      "align_self": null,
      "border": null,
      "bottom": null,
      "display": null,
      "flex": null,
      "flex_flow": null,
      "grid_area": null,
      "grid_auto_columns": null,
      "grid_auto_flow": null,
      "grid_auto_rows": null,
      "grid_column": null,
      "grid_gap": null,
      "grid_row": null,
      "grid_template_areas": null,
      "grid_template_columns": null,
      "grid_template_rows": null,
      "height": null,
      "justify_content": null,
      "justify_items": null,
      "left": null,
      "margin": null,
      "max_height": null,
      "max_width": null,
      "min_height": null,
      "min_width": null,
      "object_fit": null,
      "object_position": null,
      "order": null,
      "overflow": null,
      "overflow_x": null,
      "overflow_y": null,
      "padding": null,
      "right": null,
      "top": null,
      "visibility": null,
      "width": null
     }
    },
    "dbeb753f2f0a4cea9672cb8ac1e4acaa": {
     "model_module": "@jupyter-widgets/base",
     "model_module_version": "1.2.0",
     "model_name": "LayoutModel",
     "state": {
      "_model_module": "@jupyter-widgets/base",
      "_model_module_version": "1.2.0",
      "_model_name": "LayoutModel",
      "_view_count": null,
      "_view_module": "@jupyter-widgets/base",
      "_view_module_version": "1.2.0",
      "_view_name": "LayoutView",
      "align_content": null,
      "align_items": null,
      "align_self": null,
      "border": null,
      "bottom": null,
      "display": null,
      "flex": null,
      "flex_flow": null,
      "grid_area": null,
      "grid_auto_columns": null,
      "grid_auto_flow": null,
      "grid_auto_rows": null,
      "grid_column": null,
      "grid_gap": null,
      "grid_row": null,
      "grid_template_areas": null,
      "grid_template_columns": null,
      "grid_template_rows": null,
      "height": null,
      "justify_content": null,
      "justify_items": null,
      "left": null,
      "margin": null,
      "max_height": null,
      "max_width": null,
      "min_height": null,
      "min_width": null,
      "object_fit": null,
      "object_position": null,
      "order": null,
      "overflow": null,
      "overflow_x": null,
      "overflow_y": null,
      "padding": null,
      "right": null,
      "top": null,
      "visibility": null,
      "width": null
     }
    },
    "e210dadea0a148719ab0b0546b2aa3b0": {
     "model_module": "@jupyter-widgets/controls",
     "model_module_version": "1.5.0",
     "model_name": "HBoxModel",
     "state": {
      "_dom_classes": [],
      "_model_module": "@jupyter-widgets/controls",
      "_model_module_version": "1.5.0",
      "_model_name": "HBoxModel",
      "_view_count": null,
      "_view_module": "@jupyter-widgets/controls",
      "_view_module_version": "1.5.0",
      "_view_name": "HBoxView",
      "box_style": "",
      "children": [
       "IPY_MODEL_97505942ca3f4334859071caeecefbeb",
       "IPY_MODEL_88b475d599784528af0fe1927afb6ce4",
       "IPY_MODEL_d4cbed37612945d08d1fab4a11d3f61c"
      ],
      "layout": "IPY_MODEL_ff350825659d4bd5a011e1a9b275614b"
     }
    },
    "e25c15679d8943e9bedd92d418018778": {
     "model_module": "@jupyter-widgets/base",
     "model_module_version": "1.2.0",
     "model_name": "LayoutModel",
     "state": {
      "_model_module": "@jupyter-widgets/base",
      "_model_module_version": "1.2.0",
      "_model_name": "LayoutModel",
      "_view_count": null,
      "_view_module": "@jupyter-widgets/base",
      "_view_module_version": "1.2.0",
      "_view_name": "LayoutView",
      "align_content": null,
      "align_items": null,
      "align_self": null,
      "border": null,
      "bottom": null,
      "display": null,
      "flex": null,
      "flex_flow": null,
      "grid_area": null,
      "grid_auto_columns": null,
      "grid_auto_flow": null,
      "grid_auto_rows": null,
      "grid_column": null,
      "grid_gap": null,
      "grid_row": null,
      "grid_template_areas": null,
      "grid_template_columns": null,
      "grid_template_rows": null,
      "height": null,
      "justify_content": null,
      "justify_items": null,
      "left": null,
      "margin": null,
      "max_height": null,
      "max_width": null,
      "min_height": null,
      "min_width": null,
      "object_fit": null,
      "object_position": null,
      "order": null,
      "overflow": null,
      "overflow_x": null,
      "overflow_y": null,
      "padding": null,
      "right": null,
      "top": null,
      "visibility": "hidden",
      "width": null
     }
    },
    "e5fcc53938a2473b9cf31c25f887db10": {
     "model_module": "@jupyter-widgets/base",
     "model_module_version": "1.2.0",
     "model_name": "LayoutModel",
     "state": {
      "_model_module": "@jupyter-widgets/base",
      "_model_module_version": "1.2.0",
      "_model_name": "LayoutModel",
      "_view_count": null,
      "_view_module": "@jupyter-widgets/base",
      "_view_module_version": "1.2.0",
      "_view_name": "LayoutView",
      "align_content": null,
      "align_items": null,
      "align_self": null,
      "border": null,
      "bottom": null,
      "display": null,
      "flex": null,
      "flex_flow": null,
      "grid_area": null,
      "grid_auto_columns": null,
      "grid_auto_flow": null,
      "grid_auto_rows": null,
      "grid_column": null,
      "grid_gap": null,
      "grid_row": null,
      "grid_template_areas": null,
      "grid_template_columns": null,
      "grid_template_rows": null,
      "height": null,
      "justify_content": null,
      "justify_items": null,
      "left": null,
      "margin": null,
      "max_height": null,
      "max_width": null,
      "min_height": null,
      "min_width": null,
      "object_fit": null,
      "object_position": null,
      "order": null,
      "overflow": null,
      "overflow_x": null,
      "overflow_y": null,
      "padding": null,
      "right": null,
      "top": null,
      "visibility": null,
      "width": null
     }
    },
    "eb3e9c765bab4aeeb1ee366ff7b4a0e4": {
     "model_module": "@jupyter-widgets/base",
     "model_module_version": "1.2.0",
     "model_name": "LayoutModel",
     "state": {
      "_model_module": "@jupyter-widgets/base",
      "_model_module_version": "1.2.0",
      "_model_name": "LayoutModel",
      "_view_count": null,
      "_view_module": "@jupyter-widgets/base",
      "_view_module_version": "1.2.0",
      "_view_name": "LayoutView",
      "align_content": null,
      "align_items": null,
      "align_self": null,
      "border": null,
      "bottom": null,
      "display": null,
      "flex": null,
      "flex_flow": null,
      "grid_area": null,
      "grid_auto_columns": null,
      "grid_auto_flow": null,
      "grid_auto_rows": null,
      "grid_column": null,
      "grid_gap": null,
      "grid_row": null,
      "grid_template_areas": null,
      "grid_template_columns": null,
      "grid_template_rows": null,
      "height": null,
      "justify_content": null,
      "justify_items": null,
      "left": null,
      "margin": null,
      "max_height": null,
      "max_width": null,
      "min_height": null,
      "min_width": null,
      "object_fit": null,
      "object_position": null,
      "order": null,
      "overflow": null,
      "overflow_x": null,
      "overflow_y": null,
      "padding": null,
      "right": null,
      "top": null,
      "visibility": null,
      "width": null
     }
    },
    "ee0c156906f54b3cb08f7a0aae0ab875": {
     "model_module": "@jupyter-widgets/controls",
     "model_module_version": "1.5.0",
     "model_name": "ProgressStyleModel",
     "state": {
      "_model_module": "@jupyter-widgets/controls",
      "_model_module_version": "1.5.0",
      "_model_name": "ProgressStyleModel",
      "_view_count": null,
      "_view_module": "@jupyter-widgets/base",
      "_view_module_version": "1.2.0",
      "_view_name": "StyleView",
      "bar_color": null,
      "description_width": ""
     }
    },
    "f2b9c4df5c324661b0cfd436e1d571a2": {
     "model_module": "@jupyter-widgets/controls",
     "model_module_version": "1.5.0",
     "model_name": "HTMLModel",
     "state": {
      "_dom_classes": [],
      "_model_module": "@jupyter-widgets/controls",
      "_model_module_version": "1.5.0",
      "_model_name": "HTMLModel",
      "_view_count": null,
      "_view_module": "@jupyter-widgets/controls",
      "_view_module_version": "1.5.0",
      "_view_name": "HTMLView",
      "description": "",
      "description_tooltip": null,
      "layout": "IPY_MODEL_45e13793581846e1878e5b2c6eeb42d0",
      "placeholder": "​",
      "style": "IPY_MODEL_0f07aff1b09d413ebf0cef2cb603b06e",
      "value": " 2545/0 [00:18&lt;00:00, 5780.07 examples/s]"
     }
    },
    "f353b71b8fc8429d97a2f3c476c43ec8": {
     "model_module": "@jupyter-widgets/base",
     "model_module_version": "1.2.0",
     "model_name": "LayoutModel",
     "state": {
      "_model_module": "@jupyter-widgets/base",
      "_model_module_version": "1.2.0",
      "_model_name": "LayoutModel",
      "_view_count": null,
      "_view_module": "@jupyter-widgets/base",
      "_view_module_version": "1.2.0",
      "_view_name": "LayoutView",
      "align_content": null,
      "align_items": null,
      "align_self": null,
      "border": null,
      "bottom": null,
      "display": null,
      "flex": null,
      "flex_flow": null,
      "grid_area": null,
      "grid_auto_columns": null,
      "grid_auto_flow": null,
      "grid_auto_rows": null,
      "grid_column": null,
      "grid_gap": null,
      "grid_row": null,
      "grid_template_areas": null,
      "grid_template_columns": null,
      "grid_template_rows": null,
      "height": null,
      "justify_content": null,
      "justify_items": null,
      "left": null,
      "margin": null,
      "max_height": null,
      "max_width": null,
      "min_height": null,
      "min_width": null,
      "object_fit": null,
      "object_position": null,
      "order": null,
      "overflow": null,
      "overflow_x": null,
      "overflow_y": null,
      "padding": null,
      "right": null,
      "top": null,
      "visibility": null,
      "width": null
     }
    },
    "f4e9ec0555124537bd0359b262a09b3c": {
     "model_module": "@jupyter-widgets/controls",
     "model_module_version": "1.5.0",
     "model_name": "DescriptionStyleModel",
     "state": {
      "_model_module": "@jupyter-widgets/controls",
      "_model_module_version": "1.5.0",
      "_model_name": "DescriptionStyleModel",
      "_view_count": null,
      "_view_module": "@jupyter-widgets/base",
      "_view_module_version": "1.2.0",
      "_view_name": "StyleView",
      "description_width": ""
     }
    },
    "f5916095293841319fd52d1c6957cbe7": {
     "model_module": "@jupyter-widgets/controls",
     "model_module_version": "1.5.0",
     "model_name": "ProgressStyleModel",
     "state": {
      "_model_module": "@jupyter-widgets/controls",
      "_model_module_version": "1.5.0",
      "_model_name": "ProgressStyleModel",
      "_view_count": null,
      "_view_module": "@jupyter-widgets/base",
      "_view_module_version": "1.2.0",
      "_view_name": "StyleView",
      "bar_color": null,
      "description_width": ""
     }
    },
    "f69e017641d1411fa242cd0ec7e4cd83": {
     "model_module": "@jupyter-widgets/controls",
     "model_module_version": "1.5.0",
     "model_name": "DescriptionStyleModel",
     "state": {
      "_model_module": "@jupyter-widgets/controls",
      "_model_module_version": "1.5.0",
      "_model_name": "DescriptionStyleModel",
      "_view_count": null,
      "_view_module": "@jupyter-widgets/base",
      "_view_module_version": "1.2.0",
      "_view_name": "StyleView",
      "description_width": ""
     }
    },
    "f949fa2d62a040d9be9bd9899cc15ce7": {
     "model_module": "@jupyter-widgets/controls",
     "model_module_version": "1.5.0",
     "model_name": "HTMLModel",
     "state": {
      "_dom_classes": [],
      "_model_module": "@jupyter-widgets/controls",
      "_model_module_version": "1.5.0",
      "_model_name": "HTMLModel",
      "_view_count": null,
      "_view_module": "@jupyter-widgets/controls",
      "_view_module_version": "1.5.0",
      "_view_name": "HTMLView",
      "description": "",
      "description_tooltip": null,
      "layout": "IPY_MODEL_eb3e9c765bab4aeeb1ee366ff7b4a0e4",
      "placeholder": "​",
      "style": "IPY_MODEL_2a92c4102b9848c381b6992a4e0135fb",
      "value": "Downloading data files: 100%"
     }
    },
    "fca3f899db8646008a86261606b6f57b": {
     "model_module": "@jupyter-widgets/base",
     "model_module_version": "1.2.0",
     "model_name": "LayoutModel",
     "state": {
      "_model_module": "@jupyter-widgets/base",
      "_model_module_version": "1.2.0",
      "_model_name": "LayoutModel",
      "_view_count": null,
      "_view_module": "@jupyter-widgets/base",
      "_view_module_version": "1.2.0",
      "_view_name": "LayoutView",
      "align_content": null,
      "align_items": null,
      "align_self": null,
      "border": null,
      "bottom": null,
      "display": null,
      "flex": null,
      "flex_flow": null,
      "grid_area": null,
      "grid_auto_columns": null,
      "grid_auto_flow": null,
      "grid_auto_rows": null,
      "grid_column": null,
      "grid_gap": null,
      "grid_row": null,
      "grid_template_areas": null,
      "grid_template_columns": null,
      "grid_template_rows": null,
      "height": null,
      "justify_content": null,
      "justify_items": null,
      "left": null,
      "margin": null,
      "max_height": null,
      "max_width": null,
      "min_height": null,
      "min_width": null,
      "object_fit": null,
      "object_position": null,
      "order": null,
      "overflow": null,
      "overflow_x": null,
      "overflow_y": null,
      "padding": null,
      "right": null,
      "top": null,
      "visibility": null,
      "width": null
     }
    },
    "ff350825659d4bd5a011e1a9b275614b": {
     "model_module": "@jupyter-widgets/base",
     "model_module_version": "1.2.0",
     "model_name": "LayoutModel",
     "state": {
      "_model_module": "@jupyter-widgets/base",
      "_model_module_version": "1.2.0",
      "_model_name": "LayoutModel",
      "_view_count": null,
      "_view_module": "@jupyter-widgets/base",
      "_view_module_version": "1.2.0",
      "_view_name": "LayoutView",
      "align_content": null,
      "align_items": null,
      "align_self": null,
      "border": null,
      "bottom": null,
      "display": null,
      "flex": null,
      "flex_flow": null,
      "grid_area": null,
      "grid_auto_columns": null,
      "grid_auto_flow": null,
      "grid_auto_rows": null,
      "grid_column": null,
      "grid_gap": null,
      "grid_row": null,
      "grid_template_areas": null,
      "grid_template_columns": null,
      "grid_template_rows": null,
      "height": null,
      "justify_content": null,
      "justify_items": null,
      "left": null,
      "margin": null,
      "max_height": null,
      "max_width": null,
      "min_height": null,
      "min_width": null,
      "object_fit": null,
      "object_position": null,
      "order": null,
      "overflow": null,
      "overflow_x": null,
      "overflow_y": null,
      "padding": null,
      "right": null,
      "top": null,
      "visibility": null,
      "width": null
     }
    }
   }
  }
 },
 "nbformat": 4,
 "nbformat_minor": 5
}
